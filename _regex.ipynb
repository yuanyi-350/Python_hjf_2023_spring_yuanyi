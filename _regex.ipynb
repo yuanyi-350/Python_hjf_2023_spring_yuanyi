{
 "cells": [
  {
   "cell_type": "code",
   "id": "initial_id",
   "metadata": {
    "collapsed": true,
    "ExecuteTime": {
     "end_time": "2025-08-20T16:25:14.820117Z",
     "start_time": "2025-08-20T16:25:14.816428Z"
    }
   },
   "source": "import re",
   "outputs": [],
   "execution_count": 30
  },
  {
   "metadata": {},
   "cell_type": "markdown",
   "source": [
    "# 1. 基本匹配\n",
    "\n",
    "对大小写敏感"
   ],
   "id": "1ec9ab46ece2a565"
  },
  {
   "metadata": {
    "ExecuteTime": {
     "end_time": "2025-08-20T16:25:14.838900Z",
     "start_time": "2025-08-20T16:25:14.832699Z"
    }
   },
   "cell_type": "code",
   "source": [
    "print(re.findall(r\"the\", \"The fat cat sat on the mat\"))\n",
    "print(re.findall(r\"The\", \"The fat cat sat on the mat\"))"
   ],
   "id": "7917fdb73b692dbf",
   "outputs": [
    {
     "name": "stdout",
     "output_type": "stream",
     "text": [
      "['the']\n",
      "['The']\n"
     ]
    }
   ],
   "execution_count": 31
  },
  {
   "metadata": {},
   "cell_type": "markdown",
   "source": [
    "简写字符集\n",
    "|简写|描述|\n",
    "|:----:|----|\n",
    "|`\\w`|匹配所有字母数字, 等同于 `[a-zA-Z0-9_]`|\n",
    "|`\\W`|匹配所有非字母数字, 即符号, 等同于: `[^\\w]`|\n",
    "|`\\d`|匹配数字, 等同于: `[0-9]`|\n",
    "|`\\s`|匹配所有空格字符, 等同于: `[ \\t\\n\\r\\f\\v]`|\n",
    "|`\\`|转义字符, 用于匹配一些保留的字符 `[ ] ( ) { } . * + ? ^ $ \\`|\n",
    "|`\\b`|匹配一个位置, 前字符是 `\\w`, 后字符是 `\\W` (零宽匹配, 即本身不消耗字符, 只是一个位置检查)|"
   ],
   "id": "7faf5b324aa25e22"
  },
  {
   "metadata": {
    "ExecuteTime": {
     "end_time": "2025-08-20T16:25:14.870251Z",
     "start_time": "2025-08-20T16:25:14.866034Z"
    }
   },
   "cell_type": "code",
   "source": "print(re.findall(r\"\\bthe\\b\", \"the theatre is there\"))",
   "id": "2d0e2c4826fce521",
   "outputs": [
    {
     "name": "stdout",
     "output_type": "stream",
     "text": [
      "['the']\n"
     ]
    }
   ],
   "execution_count": 32
  },
  {
   "metadata": {},
   "cell_type": "markdown",
   "source": [
    "# 2. 元字符\n",
    "\n",
    "## 2.1 点运算符 `.`\n",
    "\n",
    "`.` 匹配任意非`\\n`的单个字符."
   ],
   "id": "f07a106e4ea2656e"
  },
  {
   "metadata": {
    "ExecuteTime": {
     "end_time": "2025-08-20T16:25:14.932248Z",
     "start_time": "2025-08-20T16:25:14.928252Z"
    }
   },
   "cell_type": "code",
   "source": [
    "print(re.findall(r\".ar\", \"The car parked in the garage\"))\n",
    "print(re.findall(r\".ar\", \"Start here, mark the area.\"))"
   ],
   "id": "13cae5fd8b1f5f6",
   "outputs": [
    {
     "name": "stdout",
     "output_type": "stream",
     "text": [
      "['car', 'par', 'gar']\n",
      "['tar', 'mar', ' ar']\n"
     ]
    }
   ],
   "execution_count": 33
  },
  {
   "metadata": {},
   "cell_type": "markdown",
   "source": "## 2.2 字符集 `[]`",
   "id": "36eba9cfb0471e89"
  },
  {
   "metadata": {
    "ExecuteTime": {
     "end_time": "2025-08-20T16:25:14.981169Z",
     "start_time": "2025-08-20T16:25:14.976437Z"
    }
   },
   "cell_type": "code",
   "source": [
    "print(re.findall(r\"[fcsm]at\", \"The fat cat sat on the mat\"))\n",
    "print(re.findall(r\"[0-9]\", \"Today is 2025-08-10\"))"
   ],
   "id": "f00304e52eca859e",
   "outputs": [
    {
     "name": "stdout",
     "output_type": "stream",
     "text": [
      "['fat', 'cat', 'sat', 'mat']\n",
      "['2', '0', '2', '5', '0', '8', '1', '0']\n"
     ]
    }
   ],
   "execution_count": 34
  },
  {
   "metadata": {},
   "cell_type": "markdown",
   "source": "否定字符集",
   "id": "784d4d06b3473e0e"
  },
  {
   "metadata": {
    "ExecuteTime": {
     "end_time": "2025-08-20T16:25:15.013663Z",
     "start_time": "2025-08-20T16:25:15.010500Z"
    }
   },
   "cell_type": "code",
   "source": [
    "print(re.findall(r\"[^c]ar\", \"The car parked in the garage\"))\n",
    "print(re.findall(r\"[^a-z]g\", \"The car parked in the garage\"))"
   ],
   "id": "7b108baecc74b778",
   "outputs": [
    {
     "name": "stdout",
     "output_type": "stream",
     "text": [
      "['par', 'gar']\n",
      "[' g']\n"
     ]
    }
   ],
   "execution_count": 35
  },
  {
   "metadata": {},
   "cell_type": "markdown",
   "source": [
    "## 2.3 重复字符 `*`, `+` (Greedy vs lazy matching)\n",
    "\n",
    "`*` 号匹配 \"在 `*` 之前的字符\", <mark>出现 $\\ge 0$ 次</mark>\n",
    "\n",
    "`+` 号匹配 \"在 `+` 之前的字符\", <mark>出现 $\\ge 1$ 次</mark>"
   ],
   "id": "51830bafcc8172fe"
  },
  {
   "metadata": {
    "ExecuteTime": {
     "end_time": "2025-08-20T16:25:15.042275Z",
     "start_time": "2025-08-20T16:25:15.038238Z"
    }
   },
   "cell_type": "code",
   "source": [
    "print(re.findall(r\"[a-z]*\", \"The car parked in the garage #21\")) # 会匹配空字符\n",
    "print(re.findall(r\"[a-z]+\", \"The car parked in the garage #21\")) # 不匹配空字符"
   ],
   "id": "5d3e644db78f7327",
   "outputs": [
    {
     "name": "stdout",
     "output_type": "stream",
     "text": [
      "['', 'he', '', 'car', '', 'parked', '', 'in', '', 'the', '', 'garage', '', '', '', '', '']\n",
      "['he', 'car', 'parked', 'in', 'the', 'garage']\n"
     ]
    }
   ],
   "execution_count": 36
  },
  {
   "metadata": {
    "ExecuteTime": {
     "end_time": "2025-08-20T16:25:15.070894Z",
     "start_time": "2025-08-20T16:25:15.067151Z"
    }
   },
   "cell_type": "code",
   "source": "print(re.findall(r\"\\s*cat\\s*\", \"The cat  sat on the concatenate\"))",
   "id": "e18acfaf5d753e4b",
   "outputs": [
    {
     "name": "stdout",
     "output_type": "stream",
     "text": [
      "[' cat  ', 'cat']\n"
     ]
    }
   ],
   "execution_count": 37
  },
  {
   "metadata": {},
   "cell_type": "markdown",
   "source": "`.*` 匹配 0 个或多个任意字符 (贪婪模式, 即 `*` 吃掉尽可能多的字符)",
   "id": "5adc0301329f9643"
  },
  {
   "metadata": {
    "ExecuteTime": {
     "end_time": "2025-08-20T16:25:15.103384Z",
     "start_time": "2025-08-20T16:25:15.099725Z"
    }
   },
   "cell_type": "code",
   "source": [
    "print(re.findall(r\".*\", \"The car parked in the garage\"))\n",
    "print(re.findall(r\"c.+t\", \"The fat cat sat on the mat\"))"
   ],
   "id": "edd77c7b5c1d5490",
   "outputs": [
    {
     "name": "stdout",
     "output_type": "stream",
     "text": [
      "['The car parked in the garage', '']\n",
      "['cat sat on the mat']\n"
     ]
    }
   ],
   "execution_count": 38
  },
  {
   "metadata": {},
   "cell_type": "markdown",
   "source": "`*?` 和 `+?` 非贪婪模式, 即尽量少匹配字符",
   "id": "2745ec7f3a21e503"
  },
  {
   "metadata": {
    "ExecuteTime": {
     "end_time": "2025-08-20T16:25:15.132066Z",
     "start_time": "2025-08-20T16:25:15.126818Z"
    }
   },
   "cell_type": "code",
   "source": "print(re.findall(r\"g.*?t\", \"git is great for tracking changes and collaborating on code projects.\"))",
   "id": "75d87b12ffba84b4",
   "outputs": [
    {
     "name": "stdout",
     "output_type": "stream",
     "text": [
      "['git', 'great', 'g changes and collaborat', 'g on code project']\n"
     ]
    }
   ],
   "execution_count": 39
  },
  {
   "metadata": {},
   "cell_type": "markdown",
   "source": "## 2.4 长度符号 `{}`",
   "id": "62d9092bf57988db"
  },
  {
   "metadata": {},
   "cell_type": "markdown",
   "source": "`{n,m}` 匹配 num 个大括号之前的字符或字符集 (`n <= num <= m`) , `{n,}` 表示 `n <= num` , `{,m}` 表示 `num <= m` , `{n}` 表示 `num = n`\n",
   "id": "faf973ee11505108"
  },
  {
   "metadata": {
    "ExecuteTime": {
     "end_time": "2025-08-20T16:25:15.163728Z",
     "start_time": "2025-08-20T16:25:15.159685Z"
    }
   },
   "cell_type": "code",
   "source": [
    "print(re.findall(r\"\\b\\w{2,4}\\b\", \"git is great for tracking changes and collaborating on code projects.\"))\n",
    "print(re.findall(r\"\\w{4,}\", \"GitHub is great for sharing and collaborating on code projects.\")) # 截取所有长度 \\ge 4 的单词\n",
    "print(re.findall(r\"\\b\\d{1,4}\\b\", \"64, 128, 1024, 65536\"))"
   ],
   "id": "14aa00d112f49e3c",
   "outputs": [
    {
     "name": "stdout",
     "output_type": "stream",
     "text": [
      "['git', 'is', 'for', 'and', 'on', 'code']\n",
      "['GitHub', 'great', 'sharing', 'collaborating', 'code', 'projects']\n",
      "['64', '128', '1024']\n"
     ]
    }
   ],
   "execution_count": 40
  },
  {
   "metadata": {},
   "cell_type": "markdown",
   "source": "例如, markdown中用 `####` 表示四级标题",
   "id": "b0b4812a69bf3172"
  },
  {
   "metadata": {
    "ExecuteTime": {
     "end_time": "2025-08-20T16:25:15.202627Z",
     "start_time": "2025-08-20T16:25:15.199484Z"
    }
   },
   "cell_type": "code",
   "source": [
    "print(re.findall(r'^#{4}\\s.*', \"#### level 4\"))\n",
    "print(re.findall(r'^#{4}\\s.*', \"### level 3\"))"
   ],
   "id": "a04624d464f7a826",
   "outputs": [
    {
     "name": "stdout",
     "output_type": "stream",
     "text": [
      "['#### level 4']\n",
      "[]\n"
     ]
    }
   ],
   "execution_count": 41
  },
  {
   "metadata": {},
   "cell_type": "markdown",
   "source": [
    "# 3. Python Re API\n",
    "\n",
    "## 3.1 `()` 捕获组和 `(?:)`非捕获组"
   ],
   "id": "bbb23053dcea97b2"
  },
  {
   "metadata": {
    "ExecuteTime": {
     "end_time": "2025-08-20T16:25:15.235134Z",
     "start_time": "2025-08-20T16:25:15.231573Z"
    }
   },
   "cell_type": "code",
   "source": [
    "print(re.findall(r\"(f|c|s| )at\", \"The fat cat sat at the door.\"))\n",
    "print(re.findall(r\"([a-z])at\", \"The fat cat sat on the mat.\"))"
   ],
   "id": "10fdce5b848245b3",
   "outputs": [
    {
     "name": "stdout",
     "output_type": "stream",
     "text": [
      "['f', 'c', 's', ' ']\n",
      "['f', 'c', 's', 'm']\n"
     ]
    }
   ],
   "execution_count": 42
  },
  {
   "metadata": {
    "ExecuteTime": {
     "end_time": "2025-08-20T16:25:15.260574Z",
     "start_time": "2025-08-20T16:25:15.257574Z"
    }
   },
   "cell_type": "code",
   "source": "print(re.findall(r\"(\\d{3})-(\\d{4})-(\\d{4})\", \"I have two phone numbers: 130-3110-7085 and 186-1157-8994.\"))",
   "id": "61a713f2d898e316",
   "outputs": [
    {
     "name": "stdout",
     "output_type": "stream",
     "text": [
      "[('130', '3110', '7085'), ('186', '1157', '8994')]\n"
     ]
    }
   ],
   "execution_count": 43
  },
  {
   "metadata": {
    "ExecuteTime": {
     "end_time": "2025-08-20T16:25:15.288175Z",
     "start_time": "2025-08-20T16:25:15.284107Z"
    }
   },
   "cell_type": "code",
   "source": "print(re.findall(r\"(\\d{4})-(?:\\d{2})-(\\d{2})\", \"2025-08-10\")) # 其中月份为非捕获组",
   "id": "e8fd439725ad3658",
   "outputs": [
    {
     "name": "stdout",
     "output_type": "stream",
     "text": [
      "[('2025', '10')]\n"
     ]
    }
   ],
   "execution_count": 44
  },
  {
   "metadata": {},
   "cell_type": "markdown",
   "source": [
    "## 3.2 `re.sub(pattern, repl, string)`\n",
    "\n",
    "用 `repl` 替换掉所以 `pattern` (`repl` 可以是一个函数)"
   ],
   "id": "8a163d3f43c717b6"
  },
  {
   "metadata": {
    "ExecuteTime": {
     "end_time": "2025-08-20T16:25:15.314593Z",
     "start_time": "2025-08-20T16:25:15.310909Z"
    }
   },
   "cell_type": "code",
   "source": [
    "md_line = \"This is **important**\"\n",
    "# **text** -> \\textbf{text}\n",
    "tex_line = re.sub(r'\\*\\*(.*?)\\*\\*', r'\\\\textbf{\\1}', md_line)\n",
    "print(tex_line)"
   ],
   "id": "b1e8da56e3a5400a",
   "outputs": [
    {
     "name": "stdout",
     "output_type": "stream",
     "text": [
      "This is \\textbf{important}\n"
     ]
    }
   ],
   "execution_count": 45
  },
  {
   "metadata": {
    "ExecuteTime": {
     "end_time": "2025-08-20T16:25:15.353636Z",
     "start_time": "2025-08-20T16:25:15.347598Z"
    }
   },
   "cell_type": "code",
   "source": [
    "md_line = \"Github : [yuanyi-350](https://github.com/yuanyi-350)\"\n",
    "# [label](url) -> \\href{url}{label}\n",
    "tex_line = re.sub(r'\\[(.*?)\\]\\((.*?)\\)', r'\\\\href{\\2}{\\1}', md_line)\n",
    "print(tex_line)"
   ],
   "id": "30bb41403fefe68b",
   "outputs": [
    {
     "name": "stdout",
     "output_type": "stream",
     "text": [
      "Github : \\href{https://github.com/yuanyi-350}{yuanyi-350}\n"
     ]
    }
   ],
   "execution_count": 46
  },
  {
   "metadata": {},
   "cell_type": "markdown",
   "source": [
    "`\\1`, `\\2` 分别表示替换为捕获组 1, 捕获组 2 的内容\n",
    "\n",
    "## 3.3 `match` 对象\n",
    "\n",
    "`re.match()` : 从字符串的<mark>起始位置</mark>开始匹配, 匹配成功返回一个 `match` 对象.\n",
    "\n",
    "`re.search()` : 在整个字符串中搜索<mark>第一个匹配项</mark>, 匹配成功返回一个 `match` 对象\n",
    "\n",
    "`.start(n)` 和 `.end(n)` : 分别返回捕获组 n 在原字符串的起始位置和终止位置\n",
    "\n",
    "`.group(n)` : 返回第 n 个捕获组内容, `.group()` 和 `.group(0)` 表示整个匹配\n",
    "\n",
    "`.groups()` : 返回一个元组，包含所有捕获组"
   ],
   "id": "5f16257f9f1952e9"
  },
  {
   "metadata": {
    "ExecuteTime": {
     "end_time": "2025-08-20T16:25:15.374779Z",
     "start_time": "2025-08-20T16:25:15.371766Z"
    }
   },
   "cell_type": "code",
   "source": [
    "m = re.search(r\"(\\d{3})-(\\d{4})-(\\d{4})\", \"I have two phone numbers: 130-3110-7085 and 186-1157-8994.\")\n",
    "print(m.group())  # 整个匹配\n",
    "print(m.group(1)) # 第1组\n",
    "print(m.group(2)) # 第2组\n",
    "print(m.group(3)) # 第3组"
   ],
   "id": "13265a63af32a026",
   "outputs": [
    {
     "name": "stdout",
     "output_type": "stream",
     "text": [
      "130-3110-7085\n",
      "130\n",
      "3110\n",
      "7085\n"
     ]
    }
   ],
   "execution_count": 47
  },
  {
   "metadata": {
    "ExecuteTime": {
     "end_time": "2025-08-20T16:25:15.399518Z",
     "start_time": "2025-08-20T16:25:15.396150Z"
    }
   },
   "cell_type": "code",
   "source": [
    "m = re.match(r\"(\\d{4})-(?:\\d{2})-(\\d{2})\", \"2025-08-10 is the ddl\") # 其中月份为非捕获组\n",
    "print(m.groups())"
   ],
   "id": "4cf7e20d04d7ecd5",
   "outputs": [
    {
     "name": "stdout",
     "output_type": "stream",
     "text": [
      "('2025', '10')\n"
     ]
    }
   ],
   "execution_count": 48
  },
  {
   "metadata": {
    "ExecuteTime": {
     "end_time": "2025-08-20T16:25:15.442727Z",
     "start_time": "2025-08-20T16:25:15.437494Z"
    }
   },
   "cell_type": "code",
   "source": [
    "m = re.search(r\".at\", \"The fat cat sat on the mat\")\n",
    "if m:\n",
    "    print(m.group(), m.start(), m.end())"
   ],
   "id": "e4ac13b8b6dccbbc",
   "outputs": [
    {
     "name": "stdout",
     "output_type": "stream",
     "text": [
      "fat 4 7\n"
     ]
    }
   ],
   "execution_count": 49
  },
  {
   "metadata": {},
   "cell_type": "markdown",
   "source": [
    "## 3.4 `re.compile()` 预编译\n",
    "\n",
    "多次使用 `pattern` 模式匹配时可以预编译提升效率"
   ],
   "id": "7ba271027cd89dcd"
  },
  {
   "metadata": {
    "ExecuteTime": {
     "end_time": "2025-08-20T16:25:15.463954Z",
     "start_time": "2025-08-20T16:25:15.461184Z"
    }
   },
   "cell_type": "code",
   "source": "equation_pattern = re.compile(r\"(\\$\\$(.+?)\\$\\$)\", re.DOTALL)",
   "id": "a9816e920c33e5e5",
   "outputs": [],
   "execution_count": 50
  },
  {
   "metadata": {},
   "cell_type": "markdown",
   "source": "`re.DOTALL` 让 `.` 可以匹配包括换行符 `\\n` 在内的所有字符.",
   "id": "6fba97849faa6640"
  },
  {
   "metadata": {},
   "cell_type": "markdown",
   "source": [
    "\n",
    "## 3.5 锚点"
   ],
   "id": "a4c3f70f9fe29787"
  },
  {
   "metadata": {},
   "cell_type": "markdown",
   "source": "`^` 匹配开头, `$` 匹配结尾. `re` 的 `flag` 若加入 `re.M` 将 `\\n` 理解为换行, 若无则当成一个字符串整体",
   "id": "a06b353f48a60ce9"
  },
  {
   "metadata": {
    "ExecuteTime": {
     "end_time": "2025-08-20T16:25:15.492921Z",
     "start_time": "2025-08-20T16:25:15.487943Z"
    }
   },
   "cell_type": "code",
   "source": [
    "doc = \"\"\"1. line1\n",
    "2. line2\n",
    "3. line3\n",
    "\"\"\" # doc = \"1. line1\\n2. line2\\n3. line3\"\n",
    "print(re.findall(r\"^\\d\", doc, flags=re.M))\n",
    "print(re.findall(r\"^\\d\", doc))"
   ],
   "id": "4e6f45c937f6678c",
   "outputs": [
    {
     "name": "stdout",
     "output_type": "stream",
     "text": [
      "['1', '2', '3']\n",
      "['1']\n"
     ]
    }
   ],
   "execution_count": 51
  },
  {
   "metadata": {},
   "cell_type": "markdown",
   "source": [
    "# 4. 零宽断言\n",
    "\n",
    "| 语法         | 名称      | 方向   | 作用            |\n",
    "| ---- | ---- |------| ---- |\n",
    "| `(?=...)`  | 正先行断言 | 向前   | 后面必须是 ... |\n",
    "| `(?!...)`  | 负先行断言 | 向前   | 后面不能是 ... |\n",
    "| `(?<=...)` | 正后发断言 | 向后   | 前面必须是 ... |\n",
    "| `(?<!...)` | 负后发断言 | 向后   | 前面不能是 ... |\n",
    "\n",
    "`X(?=Y)Z` Example :\n",
    "\n",
    "先匹配 X, 然后从 X 后面开始与 Y 匹配, 最后从 X 后面开始与 Z 匹配 (Y 不出现在最终匹配文本里)\n",
    "\n",
    "零宽: Y 匹配后, 匹配光标仍停在原地"
   ],
   "id": "2c6d3d6e31c7ecb9"
  },
  {
   "metadata": {
    "ExecuteTime": {
     "end_time": "2025-08-20T16:25:15.516030Z",
     "start_time": "2025-08-20T16:25:15.512726Z"
    }
   },
   "cell_type": "code",
   "source": "print(re.findall(r\"\\w+(?=\\.com)\", \"google.com, bilibili.com, zhihu.com\"))",
   "id": "a3be21c62e3330f1",
   "outputs": [
    {
     "name": "stdout",
     "output_type": "stream",
     "text": [
      "['google', 'bilibili', 'zhihu']\n"
     ]
    }
   ],
   "execution_count": 52
  },
  {
   "metadata": {
    "ExecuteTime": {
     "end_time": "2025-08-20T16:25:15.541369Z",
     "start_time": "2025-08-20T16:25:15.537561Z"
    }
   },
   "cell_type": "code",
   "source": "print(re.findall(r\"(?=[^be])[a-z]\", \"abcdefgh\"))",
   "id": "84f45f5b96286afd",
   "outputs": [
    {
     "name": "stdout",
     "output_type": "stream",
     "text": [
      "['a', 'c', 'd', 'f', 'g', 'h']\n"
     ]
    }
   ],
   "execution_count": 53
  },
  {
   "metadata": {},
   "cell_type": "markdown",
   "source": "密码强度校验 (至少 8 位, 含大写, 小写, 数字)",
   "id": "708d70f5039aa8b6"
  },
  {
   "metadata": {
    "ExecuteTime": {
     "end_time": "2025-08-20T16:25:15.567836Z",
     "start_time": "2025-08-20T16:25:15.564131Z"
    }
   },
   "cell_type": "code",
   "source": "print(re.findall(r\"^(?=.*[A-Z])(?=.*[a-z])(?=.*\\d).{8,}$\", \"Password0!*\"))",
   "id": "81470df3b8264297",
   "outputs": [
    {
     "name": "stdout",
     "output_type": "stream",
     "text": [
      "['Password0!*']\n"
     ]
    }
   ],
   "execution_count": 54
  },
  {
   "metadata": {},
   "cell_type": "markdown",
   "source": [
    "1. `^` 匹配字符串的开头\n",
    "2. `(?=.*[A-Z])` 正先行断言：从开头向后, 经过若干给字符 (包括 0 个), 可以匹配到大写字母\n",
    "3. `(?=.*[a-z])` 存在小写字母\n",
    "4. `(?=.*\\d)`    存在数字\n",
    "5. `.{8,}`       此时光标仍在第 0 位, 匹配任意字符, 长度至少 8\n",
    "6. `$`           匹配字符串结尾, 确保整个串长度符合要求"
   ],
   "id": "f7662804de7b7a1b"
  },
  {
   "metadata": {},
   "cell_type": "markdown",
   "source": "- 重叠匹配 (以markdown中**黑体**, `**黑体**` 为例)",
   "id": "aed0a1d806945f4a"
  },
  {
   "metadata": {
    "ExecuteTime": {
     "end_time": "2025-08-20T16:25:15.598139Z",
     "start_time": "2025-08-20T16:25:15.593791Z"
    }
   },
   "cell_type": "code",
   "source": "print(re.findall(r\"(?=\\*\\*(.*?)\\*\\*)\", \"**font** text**\"))",
   "id": "2db126b67da2b518",
   "outputs": [
    {
     "name": "stdout",
     "output_type": "stream",
     "text": [
      "['font', ' text']\n"
     ]
    }
   ],
   "execution_count": 55
  },
  {
   "metadata": {},
   "cell_type": "markdown",
   "source": [
    "- 正常匹配方式 : 每找到一次匹配, 游标移动到这次匹配的末尾, 再从这里找下一个匹配 (不重叠匹配)\n",
    "\n",
    "  这也是markdown渲染的方式"
   ],
   "id": "7b13416111c95b27"
  },
  {
   "metadata": {
    "ExecuteTime": {
     "end_time": "2025-08-20T16:25:15.628879Z",
     "start_time": "2025-08-20T16:25:15.625401Z"
    }
   },
   "cell_type": "code",
   "source": "print(re.findall(r\"\\*\\*(.*?)\\*\\*\", \"**font** text**\"))",
   "id": "cc31a029dcbead69",
   "outputs": [
    {
     "name": "stdout",
     "output_type": "stream",
     "text": [
      "['font']\n"
     ]
    }
   ],
   "execution_count": 56
  },
  {
   "metadata": {
    "ExecuteTime": {
     "end_time": "2025-08-20T16:25:15.648365Z",
     "start_time": "2025-08-20T16:25:15.645057Z"
    }
   },
   "cell_type": "code",
   "source": "print(re.findall(r\"(?![be])[a-z]\", \"abcdefgh\"))",
   "id": "15461ed15f995436",
   "outputs": [
    {
     "name": "stdout",
     "output_type": "stream",
     "text": [
      "['a', 'c', 'd', 'f', 'g', 'h']\n"
     ]
    }
   ],
   "execution_count": 57
  },
  {
   "metadata": {
    "ExecuteTime": {
     "end_time": "2025-08-20T16:25:15.680075Z",
     "start_time": "2025-08-20T16:25:15.673362Z"
    }
   },
   "cell_type": "code",
   "source": "print(re.findall(r\"[a-z](?<![be])\", \"abcdefgh\"))",
   "id": "8e2677afc4e56349",
   "outputs": [
    {
     "name": "stdout",
     "output_type": "stream",
     "text": [
      "['a', 'c', 'd', 'f', 'g', 'h']\n"
     ]
    }
   ],
   "execution_count": 58
  }
 ],
 "metadata": {
  "kernelspec": {
   "display_name": "Python 3",
   "language": "python",
   "name": "python3"
  },
  "language_info": {
   "codemirror_mode": {
    "name": "ipython",
    "version": 2
   },
   "file_extension": ".py",
   "mimetype": "text/x-python",
   "name": "python",
   "nbconvert_exporter": "python",
   "pygments_lexer": "ipython2",
   "version": "2.7.6"
  }
 },
 "nbformat": 4,
 "nbformat_minor": 5
}
