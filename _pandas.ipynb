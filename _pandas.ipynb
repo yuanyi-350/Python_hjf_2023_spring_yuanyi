{
 "cells": [
  {
   "metadata": {
    "ExecuteTime": {
     "end_time": "2025-08-27T02:41:31.130948Z",
     "start_time": "2025-08-27T02:41:31.127418Z"
    }
   },
   "cell_type": "code",
   "source": [
    "import pandas as pd\n",
    "import numpy as np"
   ],
   "id": "69d5f308ad50993c",
   "outputs": [],
   "execution_count": 265
  },
  {
   "metadata": {},
   "cell_type": "markdown",
   "source": "# Data structures : `Series`",
   "id": "5c57eb409ec5479e"
  },
  {
   "metadata": {
    "ExecuteTime": {
     "end_time": "2025-08-27T02:41:31.139125Z",
     "start_time": "2025-08-27T02:41:31.136083Z"
    }
   },
   "cell_type": "code",
   "source": [
    "s = pd.Series([1, 3, 5, np.nan, 6, 8])\n",
    "print(s)"
   ],
   "id": "eba725d4cd675fdc",
   "outputs": [
    {
     "name": "stdout",
     "output_type": "stream",
     "text": [
      "0    1.0\n",
      "1    3.0\n",
      "2    5.0\n",
      "3    NaN\n",
      "4    6.0\n",
      "5    8.0\n",
      "dtype: float64\n"
     ]
    }
   ],
   "execution_count": 266
  },
  {
   "metadata": {
    "ExecuteTime": {
     "end_time": "2025-08-27T02:41:31.169435Z",
     "start_time": "2025-08-27T02:41:31.165729Z"
    }
   },
   "cell_type": "code",
   "source": [
    "s = pd.Series(data = np.arange(4),\n",
    "              index = [f\"row_{i}\" for i in range(4)], # By default, `index = 0,1,2,3...`\n",
    "              name = \"col\", # 默认 `name = None`\n",
    "              dtype = \"float32\")\n",
    "print(s)"
   ],
   "id": "a2975502a625f8c1",
   "outputs": [
    {
     "name": "stdout",
     "output_type": "stream",
     "text": [
      "row_0    0.0\n",
      "row_1    1.0\n",
      "row_2    2.0\n",
      "row_3    3.0\n",
      "Name: col, dtype: float32\n"
     ]
    }
   ],
   "execution_count": 267
  },
  {
   "metadata": {},
   "cell_type": "markdown",
   "source": "# Data structures : `DataFrame`",
   "id": "c12e2b48ce25bc02"
  },
  {
   "metadata": {
    "ExecuteTime": {
     "end_time": "2025-08-27T02:41:31.217838Z",
     "start_time": "2025-08-27T02:41:31.214268Z"
    }
   },
   "cell_type": "code",
   "source": [
    "df = pd.DataFrame([[1,2,3],\n",
    "                   [4,5,6],\n",
    "                   [7,8,9],\n",
    "                   [10,11,12]])\n",
    "print(df)"
   ],
   "id": "505dd7762042c73b",
   "outputs": [
    {
     "name": "stdout",
     "output_type": "stream",
     "text": [
      "    0   1   2\n",
      "0   1   2   3\n",
      "1   4   5   6\n",
      "2   7   8   9\n",
      "3  10  11  12\n"
     ]
    }
   ],
   "execution_count": 268
  },
  {
   "metadata": {
    "ExecuteTime": {
     "end_time": "2025-08-27T02:41:31.230715Z",
     "start_time": "2025-08-27T02:41:31.226206Z"
    }
   },
   "cell_type": "code",
   "source": [
    "df = pd.DataFrame(np.arange(1, 13).reshape(4, 3))\n",
    "print(df)\n",
    "print(df.to_numpy())"
   ],
   "id": "f5f9a7cf655346fd",
   "outputs": [
    {
     "name": "stdout",
     "output_type": "stream",
     "text": [
      "    0   1   2\n",
      "0   1   2   3\n",
      "1   4   5   6\n",
      "2   7   8   9\n",
      "3  10  11  12\n",
      "[[ 1  2  3]\n",
      " [ 4  5  6]\n",
      " [ 7  8  9]\n",
      " [10 11 12]]\n"
     ]
    }
   ],
   "execution_count": 269
  },
  {
   "metadata": {
    "ExecuteTime": {
     "end_time": "2025-08-27T02:41:31.262346Z",
     "start_time": "2025-08-27T02:41:31.257458Z"
    }
   },
   "cell_type": "code",
   "source": [
    "df = pd.DataFrame(np.arange(1, 13).reshape(4, 3),\n",
    "                  index = [f'row_{i}' for i in range(4)],\n",
    "                  columns = [f'col_{i}' for i in range(3)])\n",
    "print(df.columns)\n",
    "print(df.index)\n",
    "print(df)"
   ],
   "id": "a1ec19961ccb0508",
   "outputs": [
    {
     "name": "stdout",
     "output_type": "stream",
     "text": [
      "Index(['col_0', 'col_1', 'col_2'], dtype='object')\n",
      "Index(['row_0', 'row_1', 'row_2', 'row_3'], dtype='object')\n",
      "       col_0  col_1  col_2\n",
      "row_0      1      2      3\n",
      "row_1      4      5      6\n",
      "row_2      7      8      9\n",
      "row_3     10     11     12\n"
     ]
    }
   ],
   "execution_count": 270
  },
  {
   "metadata": {
    "ExecuteTime": {
     "end_time": "2025-08-27T02:41:31.305487Z",
     "start_time": "2025-08-27T02:41:31.301328Z"
    }
   },
   "cell_type": "code",
   "source": [
    "df = df.rename(columns={\"col_0\": \"_col0\",\n",
    "                   \"col_1\": \"_col1\",})\n",
    "print(df)"
   ],
   "id": "100717aadb6727c",
   "outputs": [
    {
     "name": "stdout",
     "output_type": "stream",
     "text": [
      "       _col0  _col1  col_2\n",
      "row_0      1      2      3\n",
      "row_1      4      5      6\n",
      "row_2      7      8      9\n",
      "row_3     10     11     12\n"
     ]
    }
   ],
   "execution_count": 271
  },
  {
   "metadata": {
    "ExecuteTime": {
     "end_time": "2025-08-27T02:41:31.337434Z",
     "start_time": "2025-08-27T02:41:31.333439Z"
    }
   },
   "cell_type": "code",
   "source": [
    "df = pd.DataFrame(\n",
    "    {\n",
    "        \"col_0\": [1, 4, 7, 10],\n",
    "        \"col_1\": [2, 5, 8, 11],\n",
    "        \"col_2\": [3, 6, 9, 12],\n",
    "    },\n",
    "    index = [f'row_{i}' for i in range(4)]\n",
    ")\n",
    "print(df)"
   ],
   "id": "aa580ea33ee70d6f",
   "outputs": [
    {
     "name": "stdout",
     "output_type": "stream",
     "text": [
      "       col_0  col_1  col_2\n",
      "row_0      1      2      3\n",
      "row_1      4      5      6\n",
      "row_2      7      8      9\n",
      "row_3     10     11     12\n"
     ]
    }
   ],
   "execution_count": 272
  },
  {
   "metadata": {},
   "cell_type": "markdown",
   "source": "# `dtype`",
   "id": "3578aed5a2ecae7a"
  },
  {
   "metadata": {
    "ExecuteTime": {
     "end_time": "2025-08-27T02:41:31.361628Z",
     "start_time": "2025-08-27T02:41:31.358299Z"
    }
   },
   "cell_type": "code",
   "source": "print(pd.date_range(\"2000-2-28\", freq=\"D\", periods=3))",
   "id": "66a6198ef910d3b5",
   "outputs": [
    {
     "name": "stdout",
     "output_type": "stream",
     "text": [
      "DatetimeIndex(['2000-02-28', '2000-02-29', '2000-03-01'], dtype='datetime64[ns]', freq='D')\n"
     ]
    }
   ],
   "execution_count": 273
  },
  {
   "metadata": {
    "ExecuteTime": {
     "end_time": "2025-08-27T02:41:31.406110Z",
     "start_time": "2025-08-27T02:41:31.399960Z"
    }
   },
   "cell_type": "code",
   "source": [
    "data = {\n",
    "    \"date\": [\"2023-01-15\", \"2023-02-20\", \"2023-02-25\", \"2023-03-05\"],\n",
    "    \"value\": [10, 20, 15, 30]\n",
    "}\n",
    "df = pd.DataFrame(data)\n",
    "df[\"date\"] = pd.to_datetime(df[\"date\"])\n",
    "df[\"month\"] = df[\"date\"].dt.month\n",
    "df[\"weekday\"] = df[\"date\"].dt.weekday\n",
    "print(df)"
   ],
   "id": "361b21455cc6f664",
   "outputs": [
    {
     "name": "stdout",
     "output_type": "stream",
     "text": [
      "        date  value  month  weekday\n",
      "0 2023-01-15     10      1        6\n",
      "1 2023-02-20     20      2        0\n",
      "2 2023-02-25     15      2        5\n",
      "3 2023-03-05     30      3        6\n"
     ]
    }
   ],
   "execution_count": 274
  },
  {
   "metadata": {
    "ExecuteTime": {
     "end_time": "2025-08-27T02:41:31.456444Z",
     "start_time": "2025-08-27T02:41:31.452831Z"
    }
   },
   "cell_type": "code",
   "source": [
    "df = pd.DataFrame({\n",
    "    \"name\": [\"Alice\", \"Bob\", \"Cathy\", \"David\", \"Eva\"],\n",
    "    \"grade\": [\"A\", \"B\", \"A\", \"C\", \"B\"]\n",
    "})\n",
    "\n",
    "df[\"grade\"] = df[\"grade\"].astype(\"category\")"
   ],
   "id": "50865bfafb05e2c6",
   "outputs": [],
   "execution_count": 275
  },
  {
   "metadata": {},
   "cell_type": "markdown",
   "source": "# Getitem",
   "id": "ec8dc816bcaaf060"
  },
  {
   "metadata": {
    "ExecuteTime": {
     "end_time": "2025-08-27T02:41:31.466895Z",
     "start_time": "2025-08-27T02:41:31.462315Z"
    }
   },
   "cell_type": "code",
   "source": [
    "df = pd.DataFrame(np.arange(1, 13).reshape(4, 3),\n",
    "                  index = [f'row_{i}' for i in range(4)],\n",
    "                  columns = [f'col_{i}' for i in range(3)])\n",
    "print(df[\"col_2\"])   # return `pd.Series`\n",
    "print(df[[\"col_2\"]]) # return `pd.DataFrame`"
   ],
   "id": "8e08f095fcd044e1",
   "outputs": [
    {
     "name": "stdout",
     "output_type": "stream",
     "text": [
      "row_0     3\n",
      "row_1     6\n",
      "row_2     9\n",
      "row_3    12\n",
      "Name: col_2, dtype: int64\n",
      "       col_2\n",
      "row_0      3\n",
      "row_1      6\n",
      "row_2      9\n",
      "row_3     12\n"
     ]
    }
   ],
   "execution_count": 276
  },
  {
   "metadata": {
    "ExecuteTime": {
     "end_time": "2025-08-27T02:41:31.494544Z",
     "start_time": "2025-08-27T02:41:31.491229Z"
    }
   },
   "cell_type": "code",
   "source": "print(df.loc[\"row_1\"])",
   "id": "37cc736380152ef5",
   "outputs": [
    {
     "name": "stdout",
     "output_type": "stream",
     "text": [
      "col_0    4\n",
      "col_1    5\n",
      "col_2    6\n",
      "Name: row_1, dtype: int64\n"
     ]
    }
   ],
   "execution_count": 277
  },
  {
   "metadata": {
    "ExecuteTime": {
     "end_time": "2025-08-27T02:41:31.527994Z",
     "start_time": "2025-08-27T02:41:31.522505Z"
    }
   },
   "cell_type": "code",
   "source": [
    "# Selecting rows\n",
    "print(df.head(2))\n",
    "print(df.tail(3))"
   ],
   "id": "994c684d0af3275e",
   "outputs": [
    {
     "name": "stdout",
     "output_type": "stream",
     "text": [
      "       col_0  col_1  col_2\n",
      "row_0      1      2      3\n",
      "row_1      4      5      6\n",
      "       col_0  col_1  col_2\n",
      "row_1      4      5      6\n",
      "row_2      7      8      9\n",
      "row_3     10     11     12\n"
     ]
    }
   ],
   "execution_count": 278
  },
  {
   "metadata": {
    "ExecuteTime": {
     "end_time": "2025-08-27T02:41:31.582132Z",
     "start_time": "2025-08-27T02:41:31.577305Z"
    }
   },
   "cell_type": "code",
   "source": [
    "# Selecting rows\n",
    "print(df[1:3])\n",
    "print(df[\"row_1\":\"row_3\"]) # close segment"
   ],
   "id": "6bf7f07514f405ef",
   "outputs": [
    {
     "name": "stdout",
     "output_type": "stream",
     "text": [
      "       col_0  col_1  col_2\n",
      "row_1      4      5      6\n",
      "row_2      7      8      9\n",
      "       col_0  col_1  col_2\n",
      "row_1      4      5      6\n",
      "row_2      7      8      9\n",
      "row_3     10     11     12\n"
     ]
    }
   ],
   "execution_count": 279
  },
  {
   "metadata": {
    "ExecuteTime": {
     "end_time": "2025-08-27T02:41:31.625772Z",
     "start_time": "2025-08-27T02:41:31.621694Z"
    }
   },
   "cell_type": "code",
   "source": "print(df[[\"col_0\", \"col_2\"]])",
   "id": "8e4237dbc0db3003",
   "outputs": [
    {
     "name": "stdout",
     "output_type": "stream",
     "text": [
      "       col_0  col_2\n",
      "row_0      1      3\n",
      "row_1      4      6\n",
      "row_2      7      9\n",
      "row_3     10     12\n"
     ]
    }
   ],
   "execution_count": 280
  },
  {
   "metadata": {},
   "cell_type": "markdown",
   "source": "# Selection by label and index",
   "id": "8c5c6aa121459d0b"
  },
  {
   "metadata": {
    "ExecuteTime": {
     "end_time": "2025-08-27T02:41:31.666689Z",
     "start_time": "2025-08-27T02:41:31.661524Z"
    }
   },
   "cell_type": "code",
   "source": [
    "print(df.loc[:, [\"col_0\", \"col_2\"]])\n",
    "print(df.iloc[:, [0,2]])"
   ],
   "id": "d223b12f5a741a9a",
   "outputs": [
    {
     "name": "stdout",
     "output_type": "stream",
     "text": [
      "       col_0  col_2\n",
      "row_0      1      3\n",
      "row_1      4      6\n",
      "row_2      7      9\n",
      "row_3     10     12\n",
      "       col_0  col_2\n",
      "row_0      1      3\n",
      "row_1      4      6\n",
      "row_2      7      9\n",
      "row_3     10     12\n"
     ]
    }
   ],
   "execution_count": 281
  },
  {
   "metadata": {
    "ExecuteTime": {
     "end_time": "2025-08-27T02:41:31.696142Z",
     "start_time": "2025-08-27T02:41:31.691127Z"
    }
   },
   "cell_type": "code",
   "source": [
    "print(df.loc[\"row_0\":\"row_1\", \"col_0\":\"col_1\"])\n",
    "print(df.iloc[0:2, 0:2])"
   ],
   "id": "ffd4ebcbc22bedb2",
   "outputs": [
    {
     "name": "stdout",
     "output_type": "stream",
     "text": [
      "       col_0  col_1\n",
      "row_0      1      2\n",
      "row_1      4      5\n",
      "       col_0  col_1\n",
      "row_0      1      2\n",
      "row_1      4      5\n"
     ]
    }
   ],
   "execution_count": 282
  },
  {
   "metadata": {
    "ExecuteTime": {
     "end_time": "2025-08-27T02:41:31.725970Z",
     "start_time": "2025-08-27T02:41:31.723106Z"
    }
   },
   "cell_type": "code",
   "source": [
    "print(df.at[\"row_1\", \"col_1\"])\n",
    "print(df.iat[1, 1])"
   ],
   "id": "1778487f335fbbc9",
   "outputs": [
    {
     "name": "stdout",
     "output_type": "stream",
     "text": [
      "5\n",
      "5\n"
     ]
    }
   ],
   "execution_count": 283
  },
  {
   "metadata": {},
   "cell_type": "markdown",
   "source": "# `df.drop()` to delete columns",
   "id": "6abd72017be787d3"
  },
  {
   "metadata": {
    "ExecuteTime": {
     "end_time": "2025-08-27T02:41:31.757976Z",
     "start_time": "2025-08-27T02:41:31.753584Z"
    }
   },
   "cell_type": "code",
   "source": [
    "print(df)\n",
    "df.drop(columns=[\"col_1\"], inplace=True)\n",
    "print(df)"
   ],
   "id": "e50308a2af1a3f8c",
   "outputs": [
    {
     "name": "stdout",
     "output_type": "stream",
     "text": [
      "       col_0  col_1  col_2\n",
      "row_0      1      2      3\n",
      "row_1      4      5      6\n",
      "row_2      7      8      9\n",
      "row_3     10     11     12\n",
      "       col_0  col_2\n",
      "row_0      1      3\n",
      "row_1      4      6\n",
      "row_2      7      9\n",
      "row_3     10     12\n"
     ]
    }
   ],
   "execution_count": 284
  },
  {
   "metadata": {},
   "cell_type": "markdown",
   "source": [
    "# `pd.concat` , `pd.merge` and `pd.join`\n",
    "\n",
    "All three return a new `pd.DataFrame`."
   ],
   "id": "709abab875a20d96"
  },
  {
   "metadata": {
    "ExecuteTime": {
     "end_time": "2025-08-27T02:41:31.801513Z",
     "start_time": "2025-08-27T02:41:31.796059Z"
    }
   },
   "cell_type": "code",
   "source": [
    "df1 = pd.DataFrame(\n",
    "    {\n",
    "        \"A\": [\"A0\", \"A1\"],\n",
    "        \"B\": [\"B0\", \"B1\"],\n",
    "    },\n",
    "    index=[0, 1],\n",
    ")\n",
    "\n",
    "df2 = pd.DataFrame(\n",
    "    {\n",
    "        \"C\": [\"C0\", \"C1\"],\n",
    "        \"D\": [\"D0\", \"D1\"],\n",
    "    },\n",
    "    index=[0, 1],\n",
    ")\n",
    "\n",
    "print(pd.concat([df1, df2])) # By default, `axis=0`.\n",
    "print(pd.concat([df1, df2], axis = 1))"
   ],
   "id": "973e84570bc70578",
   "outputs": [
    {
     "name": "stdout",
     "output_type": "stream",
     "text": [
      "     A    B    C    D\n",
      "0   A0   B0  NaN  NaN\n",
      "1   A1   B1  NaN  NaN\n",
      "0  NaN  NaN   C0   D0\n",
      "1  NaN  NaN   C1   D1\n",
      "    A   B   C   D\n",
      "0  A0  B0  C0  D0\n",
      "1  A1  B1  C1  D1\n"
     ]
    }
   ],
   "execution_count": 285
  },
  {
   "metadata": {
    "ExecuteTime": {
     "end_time": "2025-08-27T02:41:31.831835Z",
     "start_time": "2025-08-27T02:41:31.823531Z"
    }
   },
   "cell_type": "code",
   "source": [
    "left = pd.DataFrame({\"key\": [\"foo\", \"baz\", \"bar\"],\n",
    "                     \"lval\": [1, 2, 3]})\n",
    "right = pd.DataFrame({\"key\": [\"foo\", \"bar\", \"car\", \"quz\"],\n",
    "                      \"rval\": [4, 5, 6, 7]})\n",
    "print(pd.merge(left, right, on=\"key\")) # By default, how=\"inner\", which keeps only the intersection of the two keys.\n",
    "print(pd.merge(left, right, on=\"key\", how=\"outer\")) # how=\"outer\" means taking the union of the two keys."
   ],
   "id": "1fe127eeef158e86",
   "outputs": [
    {
     "name": "stdout",
     "output_type": "stream",
     "text": [
      "   key  lval  rval\n",
      "0  foo     1     4\n",
      "1  bar     3     5\n",
      "   key  lval  rval\n",
      "0  bar   3.0   5.0\n",
      "1  baz   2.0   NaN\n",
      "2  car   NaN   6.0\n",
      "3  foo   1.0   4.0\n",
      "4  quz   NaN   7.0\n"
     ]
    }
   ],
   "execution_count": 286
  },
  {
   "metadata": {
    "ExecuteTime": {
     "end_time": "2025-08-27T02:41:31.859981Z",
     "start_time": "2025-08-27T02:41:31.853101Z"
    }
   },
   "cell_type": "code",
   "source": [
    "print(pd.merge(left, right, on=\"key\", how=\"left\"))\n",
    "print(pd.merge(left, right, on=\"key\", how=\"right\"))"
   ],
   "id": "88e0aa119417ace5",
   "outputs": [
    {
     "name": "stdout",
     "output_type": "stream",
     "text": [
      "   key  lval  rval\n",
      "0  foo     1   4.0\n",
      "1  baz     2   NaN\n",
      "2  bar     3   5.0\n",
      "   key  lval  rval\n",
      "0  foo   1.0     4\n",
      "1  bar   3.0     5\n",
      "2  car   NaN     6\n",
      "3  quz   NaN     7\n"
     ]
    }
   ],
   "execution_count": 287
  },
  {
   "metadata": {
    "ExecuteTime": {
     "end_time": "2025-08-27T02:41:31.892021Z",
     "start_time": "2025-08-27T02:41:31.885527Z"
    }
   },
   "cell_type": "code",
   "source": [
    "left = pd.DataFrame({\"A\": [\"A0\", \"A1\", \"A2\"],\n",
    "                     \"B\": [\"B0\", \"B1\", \"B2\"]},\n",
    "                    index=[\"K0\", \"K1\", \"K2\"])\n",
    "\n",
    "right = pd.DataFrame({\"C\": [\"C0\", \"C2\", \"C3\"],\n",
    "                      \"D\": [\"D0\", \"D2\", \"D3\"]},\n",
    "                     index=[\"K0\", \"K2\", \"K3\"])\n",
    "\n",
    "print(pd.concat([left, right], axis = 1)) # Keep both indexes\n",
    "print(left.join(right)) # Merge on index, keeping only the **left** DataFrame’s index."
   ],
   "id": "b97cb79bd4bd6597",
   "outputs": [
    {
     "name": "stdout",
     "output_type": "stream",
     "text": [
      "      A    B    C    D\n",
      "K0   A0   B0   C0   D0\n",
      "K1   A1   B1  NaN  NaN\n",
      "K2   A2   B2   C2   D2\n",
      "K3  NaN  NaN   C3   D3\n",
      "     A   B    C    D\n",
      "K0  A0  B0   C0   D0\n",
      "K1  A1  B1  NaN  NaN\n",
      "K2  A2  B2   C2   D2\n"
     ]
    }
   ],
   "execution_count": 288
  },
  {
   "metadata": {},
   "cell_type": "markdown",
   "source": "# MultiIndex",
   "id": "8bacb0a3f691dc78"
  },
  {
   "metadata": {
    "ExecuteTime": {
     "end_time": "2025-08-27T02:41:31.924417Z",
     "start_time": "2025-08-27T02:41:31.918566Z"
    }
   },
   "cell_type": "code",
   "source": [
    "arrays = [\n",
    "    [\"bar\", \"bar\", \"bar\", \"baz\", \"foo\", \"foo\", \"qux\", \"qux\"],\n",
    "    [\"one\", \"two\", \"three\", \"one\", \"one\", \"two\", \"one\", \"two\"],\n",
    "]\n",
    "df = pd.DataFrame(np.arange(8),\n",
    "                  index = pd.MultiIndex.from_arrays(arrays, names=[\"first\", \"second\"]))\n",
    "print(df)"
   ],
   "id": "718fd3d59ec13017",
   "outputs": [
    {
     "name": "stdout",
     "output_type": "stream",
     "text": [
      "              0\n",
      "first second   \n",
      "bar   one     0\n",
      "      two     1\n",
      "      three   2\n",
      "baz   one     3\n",
      "foo   one     4\n",
      "      two     5\n",
      "qux   one     6\n",
      "      two     7\n"
     ]
    }
   ],
   "execution_count": 289
  },
  {
   "metadata": {
    "ExecuteTime": {
     "end_time": "2025-08-27T02:41:31.964771Z",
     "start_time": "2025-08-27T02:41:31.959429Z"
    }
   },
   "cell_type": "code",
   "source": [
    "iterables = [[\"bar\", \"baz\", \"foo\", \"qux\"], [\"one\", \"two\"]]\n",
    "df = pd.DataFrame({0 : np.arange(8),\n",
    "                   1 : np.arange(8),\n",
    "                   2 : np.arange(8)},\n",
    "                  index = pd.MultiIndex.from_product(iterables, names=[\"first\", \"second\"]))\n",
    "print(df)"
   ],
   "id": "e6ea8fa327efb762",
   "outputs": [
    {
     "name": "stdout",
     "output_type": "stream",
     "text": [
      "              0  1  2\n",
      "first second         \n",
      "bar   one     0  0  0\n",
      "      two     1  1  1\n",
      "baz   one     2  2  2\n",
      "      two     3  3  3\n",
      "foo   one     4  4  4\n",
      "      two     5  5  5\n",
      "qux   one     6  6  6\n",
      "      two     7  7  7\n"
     ]
    }
   ],
   "execution_count": 290
  },
  {
   "metadata": {
    "ExecuteTime": {
     "end_time": "2025-08-27T02:41:31.996500Z",
     "start_time": "2025-08-27T02:41:31.990836Z"
    }
   },
   "cell_type": "code",
   "source": [
    "dft = df.T\n",
    "print(dft)\n",
    "print(dft[\"bar\"])"
   ],
   "id": "48ad344aa521ccce",
   "outputs": [
    {
     "name": "stdout",
     "output_type": "stream",
     "text": [
      "first  bar     baz     foo     qux    \n",
      "second one two one two one two one two\n",
      "0        0   1   2   3   4   5   6   7\n",
      "1        0   1   2   3   4   5   6   7\n",
      "2        0   1   2   3   4   5   6   7\n",
      "second  one  two\n",
      "0         0    1\n",
      "1         0    1\n",
      "2         0    1\n"
     ]
    }
   ],
   "execution_count": 291
  },
  {
   "metadata": {
    "ExecuteTime": {
     "end_time": "2025-08-27T02:41:32.027024Z",
     "start_time": "2025-08-27T02:41:32.022223Z"
    }
   },
   "cell_type": "code",
   "source": [
    "print(df.loc[\"bar\"])\n",
    "print(df.loc[\"bar\" : \"baz\", 1:3])"
   ],
   "id": "3eff335ced5bcd4b",
   "outputs": [
    {
     "name": "stdout",
     "output_type": "stream",
     "text": [
      "        0  1  2\n",
      "second         \n",
      "one     0  0  0\n",
      "two     1  1  1\n",
      "              1  2\n",
      "first second      \n",
      "bar   one     0  0\n",
      "      two     1  1\n",
      "baz   one     2  2\n",
      "      two     3  3\n"
     ]
    }
   ],
   "execution_count": 292
  },
  {
   "metadata": {
    "ExecuteTime": {
     "end_time": "2025-08-27T02:41:32.061590Z",
     "start_time": "2025-08-27T02:41:32.055374Z"
    }
   },
   "cell_type": "code",
   "source": [
    "def mklbl(prefix, n):\n",
    "    return [f\"{prefix}{i}\" for i in range(n)]\n",
    "\n",
    "miindex = pd.MultiIndex.from_product(\n",
    "    [mklbl(\"A\", 2), mklbl(\"B\", 2), mklbl(\"C\", 3)]\n",
    ")\n",
    "\n",
    "micolumns = pd.MultiIndex.from_tuples(\n",
    "    [(\"a\", \"foo\"), (\"a\", \"bar\"), (\"b\", \"foo\"), (\"b\", \"bah\")], names=[\"lvl0\", \"lvl1\"]\n",
    ")\n",
    "\n",
    "dfmi = (\n",
    "    pd.DataFrame(\n",
    "        np.arange(len(miindex) * len(micolumns)).reshape(\n",
    "            (len(miindex), len(micolumns))\n",
    "        ),\n",
    "        index=miindex,\n",
    "        columns=micolumns,\n",
    "    )\n",
    ")\n",
    "print(dfmi)"
   ],
   "id": "abb39b6e4e7f4bbc",
   "outputs": [
    {
     "name": "stdout",
     "output_type": "stream",
     "text": [
      "lvl0       a       b    \n",
      "lvl1     foo bar foo bah\n",
      "A0 B0 C0   0   1   2   3\n",
      "      C1   4   5   6   7\n",
      "      C2   8   9  10  11\n",
      "   B1 C0  12  13  14  15\n",
      "      C1  16  17  18  19\n",
      "      C2  20  21  22  23\n",
      "A1 B0 C0  24  25  26  27\n",
      "      C1  28  29  30  31\n",
      "      C2  32  33  34  35\n",
      "   B1 C0  36  37  38  39\n",
      "      C1  40  41  42  43\n",
      "      C2  44  45  46  47\n"
     ]
    }
   ],
   "execution_count": 293
  },
  {
   "metadata": {
    "ExecuteTime": {
     "end_time": "2025-08-27T02:41:32.090278Z",
     "start_time": "2025-08-27T02:41:32.085971Z"
    }
   },
   "cell_type": "code",
   "source": "print(dfmi.loc[(slice(\"A1\"), slice(None), [\"C0\", \"C2\"]), :])",
   "id": "8d9f3d6fd7890b3b",
   "outputs": [
    {
     "name": "stdout",
     "output_type": "stream",
     "text": [
      "lvl0       a       b    \n",
      "lvl1     foo bar foo bah\n",
      "A0 B0 C0   0   1   2   3\n",
      "      C2   8   9  10  11\n",
      "   B1 C0  12  13  14  15\n",
      "      C2  20  21  22  23\n",
      "A1 B0 C0  24  25  26  27\n",
      "      C2  32  33  34  35\n",
      "   B1 C0  36  37  38  39\n",
      "      C2  44  45  46  47\n"
     ]
    }
   ],
   "execution_count": 294
  },
  {
   "metadata": {},
   "cell_type": "markdown",
   "source": "# `pd.stack` and `pd.unstack`",
   "id": "8862f3deee23923a"
  },
  {
   "metadata": {
    "ExecuteTime": {
     "end_time": "2025-08-27T02:41:32.129206Z",
     "start_time": "2025-08-27T02:41:32.124033Z"
    }
   },
   "cell_type": "code",
   "source": "print(dfmi.unstack()) # Removing the last level is equivalent to `dfmi.unstack(2)`.",
   "id": "4c3fcae24bf192f",
   "outputs": [
    {
     "name": "stdout",
     "output_type": "stream",
     "text": [
      "lvl0    a                       b                    \n",
      "lvl1  foo         bar         foo         bah        \n",
      "       C0  C1  C2  C0  C1  C2  C0  C1  C2  C0  C1  C2\n",
      "A0 B0   0   4   8   1   5   9   2   6  10   3   7  11\n",
      "   B1  12  16  20  13  17  21  14  18  22  15  19  23\n",
      "A1 B0  24  28  32  25  29  33  26  30  34  27  31  35\n",
      "   B1  36  40  44  37  41  45  38  42  46  39  43  47\n"
     ]
    }
   ],
   "execution_count": 295
  },
  {
   "metadata": {
    "ExecuteTime": {
     "end_time": "2025-08-27T02:41:32.155966Z",
     "start_time": "2025-08-27T02:41:32.150862Z"
    }
   },
   "cell_type": "code",
   "source": "print(dfmi.unstack(1))",
   "id": "31a28044ba3e6b24",
   "outputs": [
    {
     "name": "stdout",
     "output_type": "stream",
     "text": [
      "lvl0    a               b            \n",
      "lvl1  foo     bar     foo     bah    \n",
      "       B0  B1  B0  B1  B0  B1  B0  B1\n",
      "A0 C0   0  12   1  13   2  14   3  15\n",
      "   C1   4  16   5  17   6  18   7  19\n",
      "   C2   8  20   9  21  10  22  11  23\n",
      "A1 C0  24  36  25  37  26  38  27  39\n",
      "   C1  28  40  29  41  30  42  31  43\n",
      "   C2  32  44  33  45  34  46  35  47\n"
     ]
    }
   ],
   "execution_count": 296
  },
  {
   "metadata": {
    "ExecuteTime": {
     "end_time": "2025-08-27T02:41:32.186114Z",
     "start_time": "2025-08-27T02:41:32.179710Z"
    }
   },
   "cell_type": "code",
   "source": "print(dfmi.unstack([0,2]))",
   "id": "1baf721af93cd95",
   "outputs": [
    {
     "name": "stdout",
     "output_type": "stream",
     "text": [
      "lvl0   a                                      ...   b                          \\\n",
      "lvl1 foo                     bar              ... foo             bah           \n",
      "      A0          A1          A0          A1  ...  A0  A1          A0           \n",
      "      C0  C1  C2  C0  C1  C2  C0  C1  C2  C0  ...  C2  C0  C1  C2  C0  C1  C2   \n",
      "B0     0   4   8  24  28  32   1   5   9  25  ...  10  26  30  34   3   7  11   \n",
      "B1    12  16  20  36  40  44  13  17  21  37  ...  22  38  42  46  15  19  23   \n",
      "\n",
      "lvl0              \n",
      "lvl1              \n",
      "      A1          \n",
      "      C0  C1  C2  \n",
      "B0    27  31  35  \n",
      "B1    39  43  47  \n",
      "\n",
      "[2 rows x 24 columns]\n"
     ]
    }
   ],
   "execution_count": 297
  },
  {
   "metadata": {},
   "cell_type": "markdown",
   "source": "# `pd.set_index` and `inplace=True`",
   "id": "4a4b4d2a1a8060d8"
  },
  {
   "metadata": {
    "ExecuteTime": {
     "end_time": "2025-08-27T02:41:32.215761Z",
     "start_time": "2025-08-27T02:41:32.211296Z"
    }
   },
   "cell_type": "code",
   "source": [
    "df = pd.DataFrame({\"A\": np.arange(8),\n",
    "                   \"B\": [\"bar\", \"bar\", \"bar\", \"baz\", \"foo\", \"foo\", \"qux\", \"qux\"],\n",
    "                   \"C\": [\"one\", \"two\", \"three\", \"one\", \"one\", \"two\", \"one\", \"two\"]})\n",
    "df1 = df.set_index(\"B\") # By default, `inplace=False`, so the operation returns a new `pd.DataFrame`.\n",
    "print(df1)"
   ],
   "id": "d296870e0d28c38d",
   "outputs": [
    {
     "name": "stdout",
     "output_type": "stream",
     "text": [
      "     A      C\n",
      "B            \n",
      "bar  0    one\n",
      "bar  1    two\n",
      "bar  2  three\n",
      "baz  3    one\n",
      "foo  4    one\n",
      "foo  5    two\n",
      "qux  6    one\n",
      "qux  7    two\n"
     ]
    }
   ],
   "execution_count": 298
  },
  {
   "metadata": {
    "ExecuteTime": {
     "end_time": "2025-08-27T02:41:32.257900Z",
     "start_time": "2025-08-27T02:41:32.252727Z"
    }
   },
   "cell_type": "code",
   "source": [
    "df = pd.DataFrame({\"A\": np.arange(8),\n",
    "                   \"B\": [\"bar\", \"bar\", \"bar\", \"baz\", \"foo\", \"foo\", \"qux\", \"qux\"],\n",
    "                   \"C\": [\"one\", \"two\", \"three\", \"one\", \"one\", \"two\", \"one\", \"two\"]})\n",
    "df.set_index([\"B\", \"C\"], inplace=True) # `inplace=True` means directly modifying the `df` itself.\n",
    "print(df)"
   ],
   "id": "ab63c547159d7bc",
   "outputs": [
    {
     "name": "stdout",
     "output_type": "stream",
     "text": [
      "           A\n",
      "B   C       \n",
      "bar one    0\n",
      "    two    1\n",
      "    three  2\n",
      "baz one    3\n",
      "foo one    4\n",
      "    two    5\n",
      "qux one    6\n",
      "    two    7\n"
     ]
    }
   ],
   "execution_count": 299
  },
  {
   "metadata": {
    "ExecuteTime": {
     "end_time": "2025-08-27T02:41:32.292504Z",
     "start_time": "2025-08-27T02:41:32.288790Z"
    }
   },
   "cell_type": "code",
   "source": [
    "df.reset_index([\"B\"], inplace=True)\n",
    "print(df)"
   ],
   "id": "a1543f84ba125593",
   "outputs": [
    {
     "name": "stdout",
     "output_type": "stream",
     "text": [
      "         B  A\n",
      "C            \n",
      "one    bar  0\n",
      "two    bar  1\n",
      "three  bar  2\n",
      "one    baz  3\n",
      "one    foo  4\n",
      "two    foo  5\n",
      "one    qux  6\n",
      "two    qux  7\n"
     ]
    }
   ],
   "execution_count": 300
  },
  {
   "metadata": {},
   "cell_type": "markdown",
   "source": [
    "# `pd.groupby` and `pd.apply`\n",
    "\n"
   ],
   "id": "78162cd112262989"
  },
  {
   "metadata": {
    "ExecuteTime": {
     "end_time": "2025-08-27T02:41:32.331733Z",
     "start_time": "2025-08-27T02:41:32.327110Z"
    }
   },
   "cell_type": "code",
   "source": [
    "df = pd.DataFrame(\n",
    "    {\n",
    "        \"A\": [\"one\", \"one\", \"two\", \"three\", \"two\", \"two\", \"one\", \"three\"],\n",
    "        \"B\": [1, 2, 1, 2, 3, 2, 1, 1],\n",
    "        \"C\": np.random.randint(0, 10, 8)\n",
    "    }\n",
    ")\n",
    "print(df)"
   ],
   "id": "d5917260a72bc303",
   "outputs": [
    {
     "name": "stdout",
     "output_type": "stream",
     "text": [
      "       A  B  C\n",
      "0    one  1  5\n",
      "1    one  2  7\n",
      "2    two  1  4\n",
      "3  three  2  3\n",
      "4    two  3  4\n",
      "5    two  2  1\n",
      "6    one  1  1\n",
      "7  three  1  0\n"
     ]
    }
   ],
   "execution_count": 301
  },
  {
   "metadata": {
    "ExecuteTime": {
     "end_time": "2025-08-27T02:41:32.354793Z",
     "start_time": "2025-08-27T02:41:32.350227Z"
    }
   },
   "cell_type": "code",
   "source": "print(df.groupby(\"A\").mean())",
   "id": "7d71346255d67513",
   "outputs": [
    {
     "name": "stdout",
     "output_type": "stream",
     "text": [
      "              B         C\n",
      "A                        \n",
      "one    1.333333  4.333333\n",
      "three  1.500000  1.500000\n",
      "two    2.000000  3.000000\n"
     ]
    }
   ],
   "execution_count": 302
  },
  {
   "metadata": {
    "ExecuteTime": {
     "end_time": "2025-08-27T02:41:32.388597Z",
     "start_time": "2025-08-27T02:41:32.383956Z"
    }
   },
   "cell_type": "code",
   "source": [
    "def f(x):\n",
    "    return pd.Series([x, x ** 2], index=[\"x\", \"x^2\"])\n",
    "s = pd.Series(np.random.randint(0, 30, 5))\n",
    "print(s)\n",
    "print(s.apply(f))"
   ],
   "id": "2d08014d07e67cf3",
   "outputs": [
    {
     "name": "stdout",
     "output_type": "stream",
     "text": [
      "0     0\n",
      "1     2\n",
      "2     7\n",
      "3     8\n",
      "4    10\n",
      "dtype: int32\n",
      "    x  x^2\n",
      "0   0    0\n",
      "1   2    4\n",
      "2   7   49\n",
      "3   8   64\n",
      "4  10  100\n"
     ]
    }
   ],
   "execution_count": 303
  },
  {
   "metadata": {
    "ExecuteTime": {
     "end_time": "2025-08-27T02:41:32.433514Z",
     "start_time": "2025-08-27T02:41:32.426801Z"
    }
   },
   "cell_type": "code",
   "source": [
    "def f(group : pd.DataFrame)-> pd.DataFrame:\n",
    "    return pd.DataFrame({'original': group,\n",
    "                         'demeaned': group - group.mean()})\n",
    "\n",
    "print(df.groupby('A')['B'].apply(f))"
   ],
   "id": "7414015e8ab37cc3",
   "outputs": [
    {
     "name": "stdout",
     "output_type": "stream",
     "text": [
      "         original  demeaned\n",
      "A                          \n",
      "one   0         1 -0.333333\n",
      "      1         2  0.666667\n",
      "      6         1 -0.333333\n",
      "three 3         2  0.500000\n",
      "      7         1 -0.500000\n",
      "two   2         1 -1.000000\n",
      "      4         3  1.000000\n",
      "      5         2  0.000000\n"
     ]
    }
   ],
   "execution_count": 304
  },
  {
   "metadata": {
    "ExecuteTime": {
     "end_time": "2025-08-27T02:41:32.464055Z",
     "start_time": "2025-08-27T02:41:32.457366Z"
    }
   },
   "cell_type": "code",
   "source": "print(df.groupby(\"A\").agg([\"sum\", \"mean\", \"std\"]))",
   "id": "ea66925d5b92a08b",
   "outputs": [
    {
     "name": "stdout",
     "output_type": "stream",
     "text": [
      "        B                       C                    \n",
      "      sum      mean       std sum      mean       std\n",
      "A                                                    \n",
      "one     4  1.333333  0.577350  13  4.333333  3.055050\n",
      "three   3  1.500000  0.707107   3  1.500000  2.121320\n",
      "two     6  2.000000  1.000000   9  3.000000  1.732051\n"
     ]
    }
   ],
   "execution_count": 305
  },
  {
   "metadata": {
    "ExecuteTime": {
     "end_time": "2025-08-27T02:41:32.480799Z",
     "start_time": "2025-08-27T02:41:32.476164Z"
    }
   },
   "cell_type": "code",
   "source": [
    "print(df.groupby(\"A\")[\"B\"].agg(min_height=\"min\",\n",
    "                               max_height=\"max\",))"
   ],
   "id": "d5059da39d195c2",
   "outputs": [
    {
     "name": "stdout",
     "output_type": "stream",
     "text": [
      "       min_height  max_height\n",
      "A                            \n",
      "one             1           2\n",
      "three           1           2\n",
      "two             1           3\n"
     ]
    }
   ],
   "execution_count": 306
  },
  {
   "metadata": {},
   "cell_type": "markdown",
   "source": "iterator : ",
   "id": "2c0e2913eaa054"
  },
  {
   "metadata": {
    "ExecuteTime": {
     "end_time": "2025-08-27T02:41:32.509816Z",
     "start_time": "2025-08-27T02:41:32.502681Z"
    }
   },
   "cell_type": "code",
   "source": [
    "df = pd.DataFrame(\n",
    "    {\n",
    "        \"A\": [\"one\", \"one\", \"two\", \"three\", \"two\", \"two\", \"one\", \"three\"],\n",
    "        \"B\": [1, 2, 1, 2, 3, 2, 1, 1],\n",
    "        \"C\": np.random.randint(0, 10, 8)\n",
    "    }\n",
    ")\n",
    "for name, g in df.groupby(\"A\"):\n",
    "    print(f\"{name};\\n{g}\")"
   ],
   "id": "f29c434f45b78ea3",
   "outputs": [
    {
     "name": "stdout",
     "output_type": "stream",
     "text": [
      "one;\n",
      "     A  B  C\n",
      "0  one  1  1\n",
      "1  one  2  2\n",
      "6  one  1  7\n",
      "three;\n",
      "       A  B  C\n",
      "3  three  2  9\n",
      "7  three  1  4\n",
      "two;\n",
      "     A  B  C\n",
      "2  two  1  7\n",
      "4  two  3  0\n",
      "5  two  2  8\n"
     ]
    }
   ],
   "execution_count": 307
  },
  {
   "metadata": {},
   "cell_type": "markdown",
   "source": "# Working with missing data",
   "id": "2078b600e37e8137"
  },
  {
   "metadata": {
    "ExecuteTime": {
     "end_time": "2025-08-27T02:41:32.527212Z",
     "start_time": "2025-08-27T02:41:32.523001Z"
    }
   },
   "cell_type": "code",
   "source": [
    "s = pd.Series([1, 2], dtype=\"Int64\").reindex([0, 1, 2])\n",
    "print(s)\n",
    "print(s.isna())\n",
    "print(s.notna())"
   ],
   "id": "bcf5885bc6653a62",
   "outputs": [
    {
     "name": "stdout",
     "output_type": "stream",
     "text": [
      "0       1\n",
      "1       2\n",
      "2    <NA>\n",
      "dtype: Int64\n",
      "0    False\n",
      "1    False\n",
      "2     True\n",
      "dtype: bool\n",
      "0     True\n",
      "1     True\n",
      "2    False\n",
      "dtype: bool\n"
     ]
    }
   ],
   "execution_count": 308
  },
  {
   "metadata": {
    "ExecuteTime": {
     "end_time": "2025-08-27T02:41:32.555930Z",
     "start_time": "2025-08-27T02:41:32.551204Z"
    }
   },
   "cell_type": "code",
   "source": [
    "df = pd.DataFrame([np.nan, 10, 6, np.nan, np.nan, 3, np.nan])\n",
    "print(df.dropna())"
   ],
   "id": "9de870e27ddf9ec2",
   "outputs": [
    {
     "name": "stdout",
     "output_type": "stream",
     "text": [
      "      0\n",
      "1  10.0\n",
      "2   6.0\n",
      "5   3.0\n"
     ]
    }
   ],
   "execution_count": 309
  },
  {
   "metadata": {
    "ExecuteTime": {
     "end_time": "2025-08-27T02:41:32.596021Z",
     "start_time": "2025-08-27T02:41:32.591851Z"
    }
   },
   "cell_type": "code",
   "source": "print(df.fillna(1)) # Fill `np.nan` with `1`.",
   "id": "44c9405eef5b7ae",
   "outputs": [
    {
     "name": "stdout",
     "output_type": "stream",
     "text": [
      "      0\n",
      "0   1.0\n",
      "1  10.0\n",
      "2   6.0\n",
      "3   1.0\n",
      "4   1.0\n",
      "5   3.0\n",
      "6   1.0\n"
     ]
    }
   ],
   "execution_count": 310
  },
  {
   "metadata": {
    "ExecuteTime": {
     "end_time": "2025-08-27T02:41:32.624649Z",
     "start_time": "2025-08-27T02:41:32.620413Z"
    }
   },
   "cell_type": "code",
   "source": "print(df.ffill()) # Fill `np.nan` with the previous value.",
   "id": "2c38d04ce2c76f48",
   "outputs": [
    {
     "name": "stdout",
     "output_type": "stream",
     "text": [
      "      0\n",
      "0   NaN\n",
      "1  10.0\n",
      "2   6.0\n",
      "3   6.0\n",
      "4   6.0\n",
      "5   3.0\n",
      "6   3.0\n"
     ]
    }
   ],
   "execution_count": 311
  },
  {
   "metadata": {},
   "cell_type": "markdown",
   "source": "# value counts and sort",
   "id": "72ba0a3ce2deb4c5"
  },
  {
   "metadata": {
    "ExecuteTime": {
     "end_time": "2025-08-27T02:41:32.654993Z",
     "start_time": "2025-08-27T02:41:32.651270Z"
    }
   },
   "cell_type": "code",
   "source": [
    "s = pd.Series([3, 1, 4, 1, 5, 9, 2, 6, 5, 3, 5])\n",
    "print(s.value_counts())"
   ],
   "id": "b216da05df656399",
   "outputs": [
    {
     "name": "stdout",
     "output_type": "stream",
     "text": [
      "5    3\n",
      "1    2\n",
      "3    2\n",
      "4    1\n",
      "9    1\n",
      "2    1\n",
      "6    1\n",
      "Name: count, dtype: int64\n"
     ]
    }
   ],
   "execution_count": 312
  },
  {
   "metadata": {
    "ExecuteTime": {
     "end_time": "2025-08-27T02:41:32.695690Z",
     "start_time": "2025-08-27T02:41:32.691024Z"
    }
   },
   "cell_type": "code",
   "source": [
    "df = pd.DataFrame({\"name\" : [\"A\", \"B\", \"C\", \"D\"]},\n",
    "                  index = [1, 0, 2, 4])\n",
    "print(df.sort_index())"
   ],
   "id": "ada07316d899879c",
   "outputs": [
    {
     "name": "stdout",
     "output_type": "stream",
     "text": [
      "  name\n",
      "0    B\n",
      "1    A\n",
      "2    C\n",
      "4    D\n"
     ]
    }
   ],
   "execution_count": 313
  },
  {
   "metadata": {
    "ExecuteTime": {
     "end_time": "2025-08-27T02:41:32.719744Z",
     "start_time": "2025-08-27T02:41:32.715704Z"
    }
   },
   "cell_type": "code",
   "source": [
    "df = pd.DataFrame({\"id\" : [1, 0, 2, 4],\n",
    "                   \"name\" : [\"A\", \"B\", \"C\", \"D\"]})\n",
    "print(df.sort_values(by=\"id\", ascending=False))"
   ],
   "id": "1d72dd930a2c126f",
   "outputs": [
    {
     "name": "stdout",
     "output_type": "stream",
     "text": [
      "   id name\n",
      "3   4    D\n",
      "2   2    C\n",
      "0   1    A\n",
      "1   0    B\n"
     ]
    }
   ],
   "execution_count": 314
  }
 ],
 "metadata": {
  "kernelspec": {
   "display_name": "Python 3",
   "language": "python",
   "name": "python3"
  },
  "language_info": {
   "codemirror_mode": {
    "name": "ipython",
    "version": 2
   },
   "file_extension": ".py",
   "mimetype": "text/x-python",
   "name": "python",
   "nbconvert_exporter": "python",
   "pygments_lexer": "ipython2",
   "version": "2.7.6"
  }
 },
 "nbformat": 4,
 "nbformat_minor": 5
}
