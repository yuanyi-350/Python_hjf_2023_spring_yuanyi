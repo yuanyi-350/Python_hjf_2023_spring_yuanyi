{
 "cells": [
  {
   "metadata": {
    "ExecuteTime": {
     "end_time": "2025-08-27T11:20:21.071359Z",
     "start_time": "2025-08-27T11:20:21.068109Z"
    }
   },
   "cell_type": "code",
   "source": [
    "def my_hello():\n",
    "    \"\"\"doc\"\"\"\n",
    "    print(\"Hello\")\n",
    "\n",
    "print(my_hello.__name__)\n",
    "print(my_hello.__doc__)"
   ],
   "id": "148019585356993b",
   "outputs": [
    {
     "name": "stdout",
     "output_type": "stream",
     "text": [
      "my_hello\n",
      "doc\n"
     ]
    }
   ],
   "execution_count": 23
  },
  {
   "metadata": {},
   "cell_type": "markdown",
   "source": "`my_decorator` is an API which takes a function as input and returns another function.",
   "id": "b3acb93fcad576bd"
  },
  {
   "cell_type": "code",
   "id": "initial_id",
   "metadata": {
    "collapsed": true,
    "ExecuteTime": {
     "end_time": "2025-08-27T11:32:06.572811Z",
     "start_time": "2025-08-27T11:32:06.569467Z"
    }
   },
   "source": [
    "def my_decorator(func):\n",
    "    def my_wrapper():\n",
    "        print(\"inside -> func.__name__:\", func.__name__)\n",
    "        print(\"inside -> my_wrapper.__name__:\", my_wrapper.__name__)\n",
    "        func()\n",
    "    return my_wrapper\n",
    "\n",
    "@my_decorator\n",
    "def my_hello():\n",
    "    \"\"\"doc\"\"\"\n",
    "    print(\"Hello\")\n",
    "\n",
    "# equivalent to\n",
    "# def my_hello():\n",
    "#    print(\"Hello\")\n",
    "# my_hello = my_decorator(my_hello)\n",
    "\n",
    "my_hello()\n",
    "\n",
    "print(\"outside -> my_hello.__name__:\", my_hello.__name__)\n",
    "print(\"outside -> my_hello.__doc__:\", my_hello.__doc__)"
   ],
   "outputs": [
    {
     "name": "stdout",
     "output_type": "stream",
     "text": [
      "inside -> func.__name__: my_hello\n",
      "inside -> my_wrapper.__name__: my_wrapper\n",
      "Hello\n",
      "outside -> my_hello.__name__: my_wrapper\n",
      "outside -> my_hello.__doc__: None\n"
     ]
    }
   ],
   "execution_count": 37
  },
  {
   "metadata": {},
   "cell_type": "markdown",
   "source": "`wraps` preserves function metadata by copying it from the original function.",
   "id": "511aaaacb186d028"
  },
  {
   "metadata": {
    "ExecuteTime": {
     "end_time": "2025-08-27T11:58:32.684048Z",
     "start_time": "2025-08-27T11:58:32.680179Z"
    }
   },
   "cell_type": "code",
   "source": [
    "from functools import wraps\n",
    "\n",
    "def my_decorator(func):\n",
    "    @wraps(func)\n",
    "    def my_wrapper():\n",
    "        func()\n",
    "    return my_wrapper\n",
    "\n",
    "@my_decorator\n",
    "def my_hello():\n",
    "    \"\"\"doc\"\"\"\n",
    "    print(\"Hello\")\n",
    "\n",
    "my_hello()\n",
    "\n",
    "print(\"outside -> my_hello.__name__:\", my_hello.__name__)\n",
    "print(\"outside -> my_hello.__doc__:\", my_hello.__doc__)\n",
    "\n",
    "my_hello.__wrapped__()"
   ],
   "id": "cc4c325f2d9ba5fe",
   "outputs": [
    {
     "name": "stdout",
     "output_type": "stream",
     "text": [
      "Hello\n",
      "outside -> my_hello.__name__: my_hello\n",
      "outside -> my_hello.__doc__: doc\n",
      "Hello\n"
     ]
    }
   ],
   "execution_count": 73
  },
  {
   "metadata": {},
   "cell_type": "markdown",
   "source": "Applications",
   "id": "7047be19dafd719f"
  },
  {
   "metadata": {
    "ExecuteTime": {
     "end_time": "2025-08-27T11:47:40.134142Z",
     "start_time": "2025-08-27T11:47:40.130626Z"
    }
   },
   "cell_type": "code",
   "source": [
    "import time\n",
    "from functools import wraps\n",
    "\n",
    "def timer(func):\n",
    "    @wraps(func)\n",
    "    def wrapper(*args, **kwargs):\n",
    "        start_time = time.time()\n",
    "        result = func(*args, **kwargs)\n",
    "        end_time = time.time()\n",
    "        print(f\"{func.__name__} took {end_time - start_time} seconds.\")\n",
    "        return result\n",
    "    return wrapper\n",
    "\n",
    "@timer\n",
    "def func(a, b):\n",
    "    return a + b\n",
    "\n",
    "result = func(1, 2)\n",
    "result2 = func.__wrapped__(1, 2)"
   ],
   "id": "8fa65b6aec92fd42",
   "outputs": [
    {
     "name": "stdout",
     "output_type": "stream",
     "text": [
      "func took 4.76837158203125e-07 seconds.\n"
     ]
    }
   ],
   "execution_count": 63
  },
  {
   "metadata": {},
   "cell_type": "markdown",
   "source": [
    "`*args` collects all extra positional arguments into a tuple.\n",
    "\n",
    "`**kwargs` collects all extra keyword arguments into a dictionary."
   ],
   "id": "8fcf07559c079930"
  },
  {
   "metadata": {
    "ExecuteTime": {
     "end_time": "2025-08-27T12:01:40.659507Z",
     "start_time": "2025-08-27T12:01:40.656409Z"
    }
   },
   "cell_type": "code",
   "source": [
    "def demo(*args, **kwargs):\n",
    "    print(\"args:\", args)\n",
    "    print(\"kwargs:\", kwargs)\n",
    "\n",
    "demo(1, 2, a=3, b=4)"
   ],
   "id": "1b443dbbfde5e70b",
   "outputs": [
    {
     "name": "stdout",
     "output_type": "stream",
     "text": [
      "args: (1, 2)\n",
      "kwargs: {'a': 3, 'b': 4}\n"
     ]
    }
   ],
   "execution_count": 74
  },
  {
   "metadata": {
    "ExecuteTime": {
     "end_time": "2025-08-27T12:02:29.546133Z",
     "start_time": "2025-08-27T12:02:29.542111Z"
    }
   },
   "cell_type": "code",
   "source": [
    "import logging\n",
    "from functools import wraps\n",
    "\n",
    "def use_logging(func):\n",
    "    @wraps(func)\n",
    "    def wrapper(*args, **kwargs):\n",
    "        logging.warning(\"\\033[94m%s is running\" % func.__name__)\n",
    "        return func(*args, **kwargs)\n",
    "    return wrapper\n",
    "\n",
    "@use_logging\n",
    "def hello():\n",
    "    print(\"Hello\")\n",
    "hello()\n",
    "hello.__wrapped__()"
   ],
   "id": "377a613c406fa8ae",
   "outputs": [
    {
     "name": "stderr",
     "output_type": "stream",
     "text": [
      "WARNING:root:\u001B[94mhello is running\n"
     ]
    },
    {
     "name": "stdout",
     "output_type": "stream",
     "text": [
      "Hello\n",
      "Hello\n"
     ]
    }
   ],
   "execution_count": 75
  }
 ],
 "metadata": {
  "kernelspec": {
   "display_name": "Python 3",
   "language": "python",
   "name": "python3"
  },
  "language_info": {
   "codemirror_mode": {
    "name": "ipython",
    "version": 2
   },
   "file_extension": ".py",
   "mimetype": "text/x-python",
   "name": "python",
   "nbconvert_exporter": "python",
   "pygments_lexer": "ipython2",
   "version": "2.7.6"
  }
 },
 "nbformat": 4,
 "nbformat_minor": 5
}
