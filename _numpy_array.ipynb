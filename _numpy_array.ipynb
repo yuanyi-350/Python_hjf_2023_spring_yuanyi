{
 "cells": [
  {
   "metadata": {
    "ExecuteTime": {
     "end_time": "2025-08-25T06:38:30.345053Z",
     "start_time": "2025-08-25T06:38:30.339238Z"
    }
   },
   "cell_type": "code",
   "source": "import numpy as np",
   "id": "846671a28131d3f7",
   "outputs": [],
   "execution_count": 16
  },
  {
   "cell_type": "code",
   "id": "initial_id",
   "metadata": {
    "collapsed": true,
    "ExecuteTime": {
     "end_time": "2025-08-25T06:38:30.383544Z",
     "start_time": "2025-08-25T06:38:30.378126Z"
    }
   },
   "source": [
    "a = np.array([[1, 2, 3],\n",
    "              [4, 5, 6]])\n",
    "print(a, a[1], a[1, 1], sep = \";\\n\")"
   ],
   "outputs": [
    {
     "name": "stdout",
     "output_type": "stream",
     "text": [
      "[[1 2 3]\n",
      " [4 5 6]];\n",
      "[4 5 6];\n",
      "5\n"
     ]
    }
   ],
   "execution_count": 17
  },
  {
   "metadata": {},
   "cell_type": "markdown",
   "source": "typing",
   "id": "1dfc79a74e33ec0d"
  },
  {
   "metadata": {
    "ExecuteTime": {
     "end_time": "2025-08-25T06:38:30.439838Z",
     "start_time": "2025-08-25T06:38:30.435351Z"
    }
   },
   "cell_type": "code",
   "source": [
    "from numpy.typing import NDArray\n",
    "\n",
    "def func(a : NDArray) -> NDArray : return a"
   ],
   "id": "b87ae4b71faf142b",
   "outputs": [],
   "execution_count": 18
  },
  {
   "metadata": {},
   "cell_type": "markdown",
   "source": "This section covers `np.zeros()`, `np.ones()`, `np.empty()`, `np.arange()`, `np.linspace()`",
   "id": "6459f87798c157b2"
  },
  {
   "metadata": {
    "ExecuteTime": {
     "end_time": "2025-08-25T06:38:30.530846Z",
     "start_time": "2025-08-25T06:38:30.521228Z"
    }
   },
   "cell_type": "code",
   "source": [
    "a = np.zeros(2)\n",
    "b = np.ones((2, 2))\n",
    "c = np.eye(3)\n",
    "d = np.arange(4)\n",
    "e = np.arange(8, 2, -2)\n",
    "print(a, b, c, d, e, sep = \";\\n\")"
   ],
   "id": "f51f3a67ac5a0415",
   "outputs": [
    {
     "name": "stdout",
     "output_type": "stream",
     "text": [
      "[0. 0.];\n",
      "[[1. 1.]\n",
      " [1. 1.]];\n",
      "[[1. 0. 0.]\n",
      " [0. 1. 0.]\n",
      " [0. 0. 1.]];\n",
      "[0 1 2 3];\n",
      "[8 6 4]\n"
     ]
    }
   ],
   "execution_count": 19
  },
  {
   "metadata": {
    "ExecuteTime": {
     "end_time": "2025-08-25T06:38:30.620403Z",
     "start_time": "2025-08-25T06:38:30.613441Z"
    }
   },
   "cell_type": "code",
   "source": [
    "a = np.linspace(0, 1, 4)\n",
    "b = np.linspace(0, 1, num = 4, endpoint=False)\n",
    "c, step = np.linspace(0, 1, num = 4, retstep=True)\n",
    "print(a, b, sep = \";\")\n",
    "print(c, step)"
   ],
   "id": "330812871996f215",
   "outputs": [
    {
     "name": "stdout",
     "output_type": "stream",
     "text": [
      "[0.         0.33333333 0.66666667 1.        ];[0.   0.25 0.5  0.75]\n",
      "[0.         0.33333333 0.66666667 1.        ] 0.3333333333333333\n"
     ]
    }
   ],
   "execution_count": 20
  },
  {
   "metadata": {},
   "cell_type": "markdown",
   "source": "This section covers the `ndim`, `shape`, `size`, and `dtype` attributes of an array.",
   "id": "5dc1b8db9e101b44"
  },
  {
   "metadata": {
    "ExecuteTime": {
     "end_time": "2025-08-25T06:38:30.699158Z",
     "start_time": "2025-08-25T06:38:30.692930Z"
    }
   },
   "cell_type": "code",
   "source": "print(a.ndim, a.shape, a.size, a.dtype, sep = \";\")",
   "id": "437dc7c724384546",
   "outputs": [
    {
     "name": "stdout",
     "output_type": "stream",
     "text": [
      "1;(4,);4;float64\n"
     ]
    }
   ],
   "execution_count": 21
  },
  {
   "metadata": {
    "ExecuteTime": {
     "end_time": "2025-08-25T06:38:30.758870Z",
     "start_time": "2025-08-25T06:38:30.753306Z"
    }
   },
   "cell_type": "code",
   "source": [
    "a = np.reshape(np.arange(24), (2, 3, 4))\n",
    "print(a)"
   ],
   "id": "4f29c3f0eeabe006",
   "outputs": [
    {
     "name": "stdout",
     "output_type": "stream",
     "text": [
      "[[[ 0  1  2  3]\n",
      "  [ 4  5  6  7]\n",
      "  [ 8  9 10 11]]\n",
      "\n",
      " [[12 13 14 15]\n",
      "  [16 17 18 19]\n",
      "  [20 21 22 23]]]\n"
     ]
    }
   ],
   "execution_count": 22
  },
  {
   "metadata": {},
   "cell_type": "markdown",
   "source": "Slice : `arr[start:stop:step]`",
   "id": "19ec26af6c0b663a"
  },
  {
   "metadata": {
    "ExecuteTime": {
     "end_time": "2025-08-25T06:38:30.926483Z",
     "start_time": "2025-08-25T06:38:30.918604Z"
    }
   },
   "cell_type": "code",
   "source": [
    "a = np.reshape(np.arange(24), (3, 8))\n",
    "print(a[:, 0:6:2])"
   ],
   "id": "58f86b58f08e595e",
   "outputs": [
    {
     "name": "stdout",
     "output_type": "stream",
     "text": [
      "[[ 0  2  4]\n",
      " [ 8 10 12]\n",
      " [16 18 20]]\n"
     ]
    }
   ],
   "execution_count": 23
  },
  {
   "metadata": {},
   "cell_type": "markdown",
   "source": "Boolean Indexing",
   "id": "9e27eeb67f21b919"
  },
  {
   "metadata": {
    "ExecuteTime": {
     "end_time": "2025-08-25T06:38:31.126601Z",
     "start_time": "2025-08-25T06:38:31.116319Z"
    }
   },
   "cell_type": "code",
   "source": [
    "num = np.reshape(np.arange(12), (3, 4))\n",
    "mask = (num>=5) | (num%2==0)\n",
    "print(mask)\n",
    "res = num[mask]\n",
    "print(res)"
   ],
   "id": "ae2ca43239b88b85",
   "outputs": [
    {
     "name": "stdout",
     "output_type": "stream",
     "text": [
      "[[ True False  True False]\n",
      " [ True  True  True  True]\n",
      " [ True  True  True  True]]\n",
      "[ 0  2  4  5  6  7  8  9 10 11]\n"
     ]
    }
   ],
   "execution_count": 24
  },
  {
   "metadata": {
    "ExecuteTime": {
     "end_time": "2025-08-25T06:38:31.285263Z",
     "start_time": "2025-08-25T06:38:31.276551Z"
    }
   },
   "cell_type": "code",
   "source": [
    "num = np.reshape(np.arange(12), (3, 4))\n",
    "print(num[(num>=5) | (num%2==0)])"
   ],
   "id": "a4d66ca48733fa68",
   "outputs": [
    {
     "name": "stdout",
     "output_type": "stream",
     "text": [
      "[ 0  2  4  5  6  7  8  9 10 11]\n"
     ]
    }
   ],
   "execution_count": 25
  },
  {
   "metadata": {},
   "cell_type": "markdown",
   "source": "随机数",
   "id": "5679ac8f24b84252"
  },
  {
   "metadata": {
    "ExecuteTime": {
     "end_time": "2025-08-25T06:38:31.395328Z",
     "start_time": "2025-08-25T06:38:31.389029Z"
    }
   },
   "cell_type": "code",
   "source": [
    "num = np.random.randn(5)             # 正态分布\n",
    "print(num)\n",
    "num = np.random.uniform(2, 3, 5)     # 生成5个(2,3)中均匀分布的随机浮点数\n",
    "print(num)"
   ],
   "id": "9c7ef9990969a827",
   "outputs": [
    {
     "name": "stdout",
     "output_type": "stream",
     "text": [
      "[-0.69964463 -0.91651341  0.45994006 -1.09336759 -1.88168875]\n",
      "[2.28542511 2.55787321 2.87475764 2.78329068 2.74562853]\n"
     ]
    }
   ],
   "execution_count": 26
  },
  {
   "metadata": {
    "ExecuteTime": {
     "end_time": "2025-08-25T06:38:31.466573Z",
     "start_time": "2025-08-25T06:38:31.461523Z"
    }
   },
   "cell_type": "code",
   "source": [
    "num = np.random.randint(0, 10)        # 生成一个[0,10)之间的随机整数\n",
    "print(num)"
   ],
   "id": "5b592fbbdd382f60",
   "outputs": [
    {
     "name": "stdout",
     "output_type": "stream",
     "text": [
      "9\n"
     ]
    }
   ],
   "execution_count": 27
  },
  {
   "metadata": {
    "ExecuteTime": {
     "end_time": "2025-08-25T06:38:31.526937Z",
     "start_time": "2025-08-25T06:38:31.520594Z"
    }
   },
   "cell_type": "code",
   "source": [
    "num = np.random.randint(0, 100, 5)    # 生成5个随机整数\n",
    "print(num)"
   ],
   "id": "8b0bf9583ed52de2",
   "outputs": [
    {
     "name": "stdout",
     "output_type": "stream",
     "text": [
      "[66 61 86 24  8]\n"
     ]
    }
   ],
   "execution_count": 28
  },
  {
   "metadata": {
    "ExecuteTime": {
     "end_time": "2025-08-25T06:38:31.574129Z",
     "start_time": "2025-08-25T06:38:31.568731Z"
    }
   },
   "cell_type": "code",
   "source": [
    "a = np.random.rand(2, 3)              # 生成2*3随机矩阵\n",
    "print(a)"
   ],
   "id": "9d067692072d0ebb",
   "outputs": [
    {
     "name": "stdout",
     "output_type": "stream",
     "text": [
      "[[0.86715828 0.13859077 0.60461994]\n",
      " [0.77970897 0.19106991 0.50966574]]\n"
     ]
    }
   ],
   "execution_count": 29
  }
 ],
 "metadata": {
  "kernelspec": {
   "display_name": "Python 3",
   "language": "python",
   "name": "python3"
  },
  "language_info": {
   "codemirror_mode": {
    "name": "ipython",
    "version": 2
   },
   "file_extension": ".py",
   "mimetype": "text/x-python",
   "name": "python",
   "nbconvert_exporter": "python",
   "pygments_lexer": "ipython2",
   "version": "2.7.6"
  }
 },
 "nbformat": 4,
 "nbformat_minor": 5
}
