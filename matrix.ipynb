{
 "cells": [
  {
   "cell_type": "code",
   "id": "initial_id",
   "metadata": {
    "collapsed": true,
    "ExecuteTime": {
     "end_time": "2025-09-05T14:58:52.781508Z",
     "start_time": "2025-09-05T14:58:52.684636Z"
    }
   },
   "source": "import numpy as np",
   "outputs": [],
   "execution_count": 1
  },
  {
   "metadata": {
    "ExecuteTime": {
     "end_time": "2025-09-05T14:58:52.817861Z",
     "start_time": "2025-09-05T14:58:52.798949Z"
    }
   },
   "cell_type": "code",
   "source": [
    "a = np.array([[1, 2],\n",
    "              [3, 4]])\n",
    "b = np.array([[1, 2],\n",
    "              [3, 4]])\n",
    "print(a + b, a - b, a * b, a / b, sep = \"\\n\")\n",
    "print(a * 1.5)"
   ],
   "id": "6c8efca134324382",
   "outputs": [
    {
     "name": "stdout",
     "output_type": "stream",
     "text": [
      "[[2 4]\n",
      " [6 8]]\n",
      "[[0 0]\n",
      " [0 0]]\n",
      "[[ 1  4]\n",
      " [ 9 16]]\n",
      "[[1. 1.]\n",
      " [1. 1.]]\n",
      "[[1.5 3. ]\n",
      " [4.5 6. ]]\n"
     ]
    }
   ],
   "execution_count": 2
  },
  {
   "metadata": {},
   "cell_type": "markdown",
   "source": [
    "# Broadcasting\n",
    "\n",
    "When operating on two arrays, NumPy compares their shapes element-wise. It starts with the trailing (i.e. rightmost) dimension and works its way left. Two dimensions are compatible when\n",
    "1. they are equal, or\n",
    "2. one of them is 1.\n",
    "If these conditions are not met, a `ValueError` is thrown.\n",
    "\n",
    "Example :\n",
    "```\n",
    "A      (4d array):  8 x 1 x 6 x 1\n",
    "B      (3d array):      7 x 1 x 5\n",
    "Result (4d array):  8 x 7 x 6 x 5\n",
    "```"
   ],
   "id": "de2c149c2970bc61"
  },
  {
   "metadata": {
    "ExecuteTime": {
     "end_time": "2025-09-05T14:58:53.632182Z",
     "start_time": "2025-09-05T14:58:53.626413Z"
    }
   },
   "cell_type": "code",
   "source": [
    "a = np.array([[1], [2], [3]]) # shape : (3, 1)\n",
    "b = np.array([1, 2, 3]) # shape : (3,)\n",
    "print(a - b) # shape : (3, 3)"
   ],
   "id": "9a0909b7a8e8da5",
   "outputs": [
    {
     "name": "stdout",
     "output_type": "stream",
     "text": [
      "[[ 0 -1 -2]\n",
      " [ 1  0 -1]\n",
      " [ 2  1  0]]\n"
     ]
    }
   ],
   "execution_count": 3
  },
  {
   "metadata": {},
   "cell_type": "markdown",
   "source": "multiple",
   "id": "dbc14601bcb6eef5"
  },
  {
   "metadata": {
    "ExecuteTime": {
     "end_time": "2025-09-05T14:58:53.744805Z",
     "start_time": "2025-09-05T14:58:53.735932Z"
    }
   },
   "cell_type": "code",
   "source": [
    "a = np.array([[1, 2],\n",
    "              [3, 4]])\n",
    "b = np.array([[1, 2],\n",
    "              [3, 4]])\n",
    "print(a @ b)"
   ],
   "id": "6f4bff33b58623de",
   "outputs": [
    {
     "name": "stdout",
     "output_type": "stream",
     "text": [
      "[[ 7 10]\n",
      " [15 22]]\n"
     ]
    }
   ],
   "execution_count": 4
  },
  {
   "metadata": {},
   "cell_type": "markdown",
   "source": [
    "# Einstein summation\n",
    "\n",
    "Each letter represents a dimension label."
   ],
   "id": "63c360a617c1ac66"
  },
  {
   "metadata": {
    "ExecuteTime": {
     "end_time": "2025-09-05T15:23:40.988565Z",
     "start_time": "2025-09-05T15:23:40.980740Z"
    }
   },
   "cell_type": "code",
   "source": [
    "M = np.array([[1, 2],\n",
    "              [3, 4]])\n",
    "\n",
    "print(np.einsum('ij->ji', M))\n",
    "print(M.T)"
   ],
   "id": "f139af706f6d8e5c",
   "outputs": [
    {
     "name": "stdout",
     "output_type": "stream",
     "text": [
      "[[1 3]\n",
      " [2 4]]\n",
      "[[1 3]\n",
      " [2 4]]\n"
     ]
    }
   ],
   "execution_count": 16
  },
  {
   "metadata": {
    "ExecuteTime": {
     "end_time": "2025-09-05T15:53:37.966493Z",
     "start_time": "2025-09-05T15:53:37.960988Z"
    }
   },
   "cell_type": "code",
   "source": [
    "a = np.array([1, 2, 3])\n",
    "b = np.array([4, 5, 6])\n",
    "\n",
    "print(np.einsum('i,j->ij', a, b))\n",
    "print(np.outer(a, b))"
   ],
   "id": "85439a49cadcf294",
   "outputs": [
    {
     "name": "stdout",
     "output_type": "stream",
     "text": [
      "[[ 4  5  6]\n",
      " [ 8 10 12]\n",
      " [12 15 18]]\n",
      "[[ 4  5  6]\n",
      " [ 8 10 12]\n",
      " [12 15 18]]\n"
     ]
    }
   ],
   "execution_count": 46
  },
  {
   "metadata": {},
   "cell_type": "markdown",
   "source": "If the part after `->` is empty, it indicates that the result is a scalar.",
   "id": "2aab614086749504"
  },
  {
   "metadata": {
    "ExecuteTime": {
     "end_time": "2025-09-05T14:59:47.103842Z",
     "start_time": "2025-09-05T14:59:47.096609Z"
    }
   },
   "cell_type": "code",
   "source": [
    "a = np.array([1, 2, 3])\n",
    "b = np.array([4, 5, 6])\n",
    "\n",
    "print(np.einsum('i,i->', a, b))\n",
    "print(np.dot(a, b))"
   ],
   "id": "348f9a53a22deff6",
   "outputs": [
    {
     "name": "stdout",
     "output_type": "stream",
     "text": [
      "32\n",
      "32\n"
     ]
    }
   ],
   "execution_count": 13
  },
  {
   "metadata": {
    "ExecuteTime": {
     "end_time": "2025-09-05T15:09:50.755302Z",
     "start_time": "2025-09-05T15:09:50.748945Z"
    }
   },
   "cell_type": "code",
   "source": [
    "M = np.array([[1, 2],\n",
    "              [3, 4]])\n",
    "\n",
    "print(np.einsum('ii->', M))\n",
    "print(np.trace(M))"
   ],
   "id": "4036731d3a164ec1",
   "outputs": [
    {
     "name": "stdout",
     "output_type": "stream",
     "text": [
      "5\n",
      "5\n"
     ]
    }
   ],
   "execution_count": 14
  },
  {
   "metadata": {
    "ExecuteTime": {
     "end_time": "2025-09-05T15:40:52.097364Z",
     "start_time": "2025-09-05T15:40:52.091842Z"
    }
   },
   "cell_type": "code",
   "source": [
    "M = np.array([[1, 2],\n",
    "              [3, 4]])\n",
    "\n",
    "print(np.einsum('ii->i', M))"
   ],
   "id": "be3c86b182400bbd",
   "outputs": [
    {
     "name": "stdout",
     "output_type": "stream",
     "text": [
      "[1 4]\n"
     ]
    }
   ],
   "execution_count": 31
  },
  {
   "metadata": {},
   "cell_type": "markdown",
   "source": "Letters that appear in the inputs but not in the output are eliminated (summed out).",
   "id": "ede1f8947da013d4"
  },
  {
   "metadata": {
    "ExecuteTime": {
     "end_time": "2025-09-05T15:34:24.044531Z",
     "start_time": "2025-09-05T15:34:24.038245Z"
    }
   },
   "cell_type": "code",
   "source": [
    "M = np.array([[1, 2],\n",
    "              [3, 4]])\n",
    "N = np.array([[5, 6],\n",
    "              [7, 8]])\n",
    "\n",
    "print(np.einsum('ik,kj->ij', M, N))\n",
    "print(np.dot(M, N))"
   ],
   "id": "87da299796f87a1",
   "outputs": [
    {
     "name": "stdout",
     "output_type": "stream",
     "text": [
      "[[19 22]\n",
      " [43 50]]\n",
      "[[19 22]\n",
      " [43 50]]\n"
     ]
    }
   ],
   "execution_count": 24
  },
  {
   "metadata": {
    "ExecuteTime": {
     "end_time": "2025-09-05T15:46:48.430139Z",
     "start_time": "2025-09-05T15:46:48.424755Z"
    }
   },
   "cell_type": "code",
   "source": [
    "M = np.array([[[1, 2],\n",
    "               [3, 4]],\n",
    "              [[5, 6],\n",
    "               [7, 8]]])\n",
    "\n",
    "print(np.einsum('ijk->jk', M))\n",
    "print(np.sum(M, axis=0))"
   ],
   "id": "3f402a14867740d3",
   "outputs": [
    {
     "name": "stdout",
     "output_type": "stream",
     "text": [
      "[[ 6  8]\n",
      " [10 12]]\n",
      "[[ 6  8]\n",
      " [10 12]]\n"
     ]
    }
   ],
   "execution_count": 44
  },
  {
   "metadata": {
    "ExecuteTime": {
     "end_time": "2025-09-05T15:36:30.373762Z",
     "start_time": "2025-09-05T15:36:30.366523Z"
    }
   },
   "cell_type": "code",
   "source": [
    "A = np.random.rand(10, 3, 4)  # 10 3x4 matrices\n",
    "B = np.random.rand(10, 4, 5)  # 10 4x5 matrices\n",
    "C = np.einsum('ijk,ikl->ijl', A, B)\n",
    "print(C.shape)"
   ],
   "id": "dcdd9a108817ebe9",
   "outputs": [
    {
     "name": "stdout",
     "output_type": "stream",
     "text": [
      "(10, 3, 5)\n"
     ]
    }
   ],
   "execution_count": 29
  },
  {
   "metadata": {},
   "cell_type": "markdown",
   "source": [
    "Example\n",
    "\n",
    "$$\n",
    "\\begin{cases}\n",
    "x + y + z = 6 \\\\\n",
    "x + 3 y - 2 z = 1 \\\\\n",
    "2x - y + z = 3\n",
    "\\end{cases}\n",
    "$$"
   ],
   "id": "6837e0d013d3d393"
  },
  {
   "metadata": {
    "ExecuteTime": {
     "end_time": "2025-09-05T14:58:54.075954Z",
     "start_time": "2025-09-05T14:58:54.068033Z"
    }
   },
   "cell_type": "code",
   "source": [
    "A = np.array([[1, 1, 1],\n",
    "              [1, 3, -2],\n",
    "              [2, -1, 1]])\n",
    "b = np.array([6, 1, 3])\n",
    "print(np.linalg.solve(A, b)) # solution is [1 2 3]"
   ],
   "id": "c5ce493a0afa49a6",
   "outputs": [
    {
     "name": "stdout",
     "output_type": "stream",
     "text": [
      "[1. 2. 3.]\n"
     ]
    }
   ],
   "execution_count": 5
  },
  {
   "metadata": {
    "ExecuteTime": {
     "end_time": "2025-09-05T14:58:54.128419Z",
     "start_time": "2025-09-05T14:58:54.123686Z"
    }
   },
   "cell_type": "code",
   "source": [
    "def forward_sub(L, b):\n",
    "    n = L.shape[0]\n",
    "    x, b = np.zeros(n), b.copy()\n",
    "    for k in range(n):\n",
    "        x[k] = b[k] / L[k, k]\n",
    "        b[k:] -= L[k:, k] * x[k]\n",
    "    return x"
   ],
   "id": "8f0e81b6bec21647",
   "outputs": [],
   "execution_count": 6
  },
  {
   "metadata": {},
   "cell_type": "markdown",
   "source": "eigenvalue",
   "id": "343eb2986abd2b1b"
  },
  {
   "metadata": {
    "ExecuteTime": {
     "end_time": "2025-09-05T14:58:54.160980Z",
     "start_time": "2025-09-05T14:58:54.148384Z"
    }
   },
   "cell_type": "code",
   "source": [
    "A = np.array([[2, 2, -2],\n",
    "              [2, 5, -4],\n",
    "              [-2, -4, 5]])\n",
    "\n",
    "eig_val, eig_vec = np.linalg.eig(A) # (-4, 1, -1)^T , (1, 2, -2)^T , (2, 4, 5)^T\n",
    "print(eig_val, eig_vec)"
   ],
   "id": "50f345ed3b2854b8",
   "outputs": [
    {
     "name": "stdout",
     "output_type": "stream",
     "text": [
      "[ 1. 10.  1.] [[-0.94280904  0.33333333  0.2981424 ]\n",
      " [ 0.23570226  0.66666667  0.59628479]\n",
      " [-0.23570226 -0.66666667  0.74535599]]\n"
     ]
    }
   ],
   "execution_count": 7
  },
  {
   "metadata": {
    "ExecuteTime": {
     "end_time": "2025-09-05T14:58:54.195417Z",
     "start_time": "2025-09-05T14:58:54.191274Z"
    }
   },
   "cell_type": "code",
   "source": [
    "A = np.array([1, 2j])\n",
    "\n",
    "print(np.max(np.abs(A)))"
   ],
   "id": "158d352dc2817ec9",
   "outputs": [
    {
     "name": "stdout",
     "output_type": "stream",
     "text": [
      "2.0\n"
     ]
    }
   ],
   "execution_count": 8
  },
  {
   "metadata": {},
   "cell_type": "markdown",
   "source": "测试",
   "id": "7fa3e998f5b531ce"
  }
 ],
 "metadata": {
  "kernelspec": {
   "display_name": "Python 3",
   "language": "python",
   "name": "python3"
  },
  "language_info": {
   "codemirror_mode": {
    "name": "ipython",
    "version": 2
   },
   "file_extension": ".py",
   "mimetype": "text/x-python",
   "name": "python",
   "nbconvert_exporter": "python",
   "pygments_lexer": "ipython2",
   "version": "2.7.6"
  }
 },
 "nbformat": 4,
 "nbformat_minor": 5
}
