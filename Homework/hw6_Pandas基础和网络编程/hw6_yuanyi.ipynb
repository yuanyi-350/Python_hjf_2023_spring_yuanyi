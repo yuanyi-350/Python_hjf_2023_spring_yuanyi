{
 "cells": [
  {
   "attachments": {},
   "cell_type": "markdown",
   "metadata": {},
   "source": [
    "# Homework 6\n",
    "任课老师：胡俊峰\n",
    "\n",
    "负责助教：苏亚鲁、李浩然\n",
    "\n",
    "注意：仅需要提交.ipynb文件，请**不要**将下发压缩包中的其他文件一并交上。\n",
    "\n",
    "截止日期：3月18日24点"
   ]
  },
  {
   "attachments": {},
   "cell_type": "markdown",
   "metadata": {},
   "source": [
    "## 第零部分 代码理解\n",
    "### 0.1 阅读代码预测结果，分析结果是否如预期，并按要求填充代码行，实现功能。"
   ]
  },
  {
   "cell_type": "code",
   "metadata": {
    "ExecuteTime": {
     "end_time": "2025-07-05T10:01:52.676511Z",
     "start_time": "2025-07-05T10:01:52.670074Z"
    }
   },
   "source": [
    "import pandas as pd\n",
    "from pandas import read_csv\n",
    "\n",
    "df = pd.DataFrame([[1, 2], [3, 4]], columns = ['a','b'])\n",
    "print(df)\n",
    "print(df['a'])"
   ],
   "outputs": [
    {
     "name": "stdout",
     "output_type": "stream",
     "text": [
      "   a  b\n",
      "0  1  2\n",
      "1  3  4\n",
      "0    1\n",
      "1    3\n",
      "Name: a, dtype: int64\n"
     ]
    }
   ],
   "execution_count": 191
  },
  {
   "cell_type": "code",
   "metadata": {
    "ExecuteTime": {
     "end_time": "2025-07-05T10:01:52.710111Z",
     "start_time": "2025-07-05T10:01:52.703423Z"
    }
   },
   "source": [
    "# 理解那个是0号索引\n",
    "dft = df.T           \n",
    "print(dft)\n",
    "print(dft[1]['a'])\n",
    "# print(dft['a'][1] )"
   ],
   "outputs": [
    {
     "name": "stdout",
     "output_type": "stream",
     "text": [
      "   0  1\n",
      "a  1  3\n",
      "b  2  4\n",
      "3\n"
     ]
    }
   ],
   "execution_count": 192
  },
  {
   "cell_type": "code",
   "metadata": {
    "ExecuteTime": {
     "end_time": "2025-07-05T10:01:52.741621Z",
     "start_time": "2025-07-05T10:01:52.732822Z"
    }
   },
   "source": [
    "df2 = pd.DataFrame([[5, 6], [7, 8]], columns = ['a','b'])\n",
    "df3 = pd.concat([df,df2])  # 尝试用一行代码，df1，df2的横向拼接？\n",
    "print(df3)\n",
    "print(pd.concat([df,df2], axis = 1))"
   ],
   "outputs": [
    {
     "name": "stdout",
     "output_type": "stream",
     "text": [
      "   a  b\n",
      "0  1  2\n",
      "1  3  4\n",
      "0  5  6\n",
      "1  7  8\n",
      "   a  b  a  b\n",
      "0  1  2  5  6\n",
      "1  3  4  7  8\n"
     ]
    }
   ],
   "execution_count": 193
  },
  {
   "cell_type": "code",
   "metadata": {
    "ExecuteTime": {
     "end_time": "2025-07-05T10:01:52.773387Z",
     "start_time": "2025-07-05T10:01:52.766133Z"
    }
   },
   "source": [
    "# 请填充一行代码，实现打印 ‘b’列的值 <6 的df3的子视图\n",
    "print(df3[df3[\"b\"] < 6])"
   ],
   "outputs": [
    {
     "name": "stdout",
     "output_type": "stream",
     "text": [
      "   a  b\n",
      "0  1  2\n",
      "1  3  4\n"
     ]
    }
   ],
   "execution_count": 194
  },
  {
   "cell_type": "code",
   "metadata": {
    "ExecuteTime": {
     "end_time": "2025-07-05T10:01:52.794468Z",
     "start_time": "2025-07-05T10:01:52.788873Z"
    }
   },
   "source": [
    "df = pd.DataFrame([[4, 9]] * 3, columns=['A', 'B'])\n",
    "print(df)"
   ],
   "outputs": [
    {
     "name": "stdout",
     "output_type": "stream",
     "text": [
      "   A  B\n",
      "0  4  9\n",
      "1  4  9\n",
      "2  4  9\n"
     ]
    }
   ],
   "execution_count": 195
  },
  {
   "cell_type": "markdown",
   "metadata": {},
   "source": [
    "dataframe.apply(function,axis)对一行或一列做出一些操作（axis=1遍历行，axis=0遍历列），可以使用匿名函数。"
   ]
  },
  {
   "cell_type": "code",
   "metadata": {
    "ExecuteTime": {
     "end_time": "2025-07-05T10:01:52.830735Z",
     "start_time": "2025-07-05T10:01:52.823992Z"
    }
   },
   "source": [
    "import numpy as np\n",
    "print(df.apply(np.sum))\n",
    "print(df.apply(np.sum, axis=1))"
   ],
   "outputs": [
    {
     "name": "stdout",
     "output_type": "stream",
     "text": [
      "A    12\n",
      "B    27\n",
      "dtype: int64\n",
      "0    13\n",
      "1    13\n",
      "2    13\n",
      "dtype: int64\n"
     ]
    }
   ],
   "execution_count": 196
  },
  {
   "cell_type": "code",
   "metadata": {
    "ExecuteTime": {
     "end_time": "2025-07-05T10:01:52.859817Z",
     "start_time": "2025-07-05T10:01:52.850699Z"
    }
   },
   "source": [
    "df.apply(lambda x: [1, 2], axis=1)"
   ],
   "outputs": [
    {
     "data": {
      "text/plain": [
       "0    [1, 2]\n",
       "1    [1, 2]\n",
       "2    [1, 2]\n",
       "dtype: object"
      ]
     },
     "execution_count": 197,
     "metadata": {},
     "output_type": "execute_result"
    }
   ],
   "execution_count": 197
  },
  {
   "cell_type": "code",
   "metadata": {
    "ExecuteTime": {
     "end_time": "2025-07-05T10:01:52.883600Z",
     "start_time": "2025-07-05T10:01:52.876572Z"
    }
   },
   "source": [
    "df.apply(lambda x: [1, 2], axis=1, result_type='expand')"
   ],
   "outputs": [
    {
     "data": {
      "text/plain": [
       "   0  1\n",
       "0  1  2\n",
       "1  1  2\n",
       "2  1  2"
      ],
      "text/html": [
       "<div>\n",
       "<style scoped>\n",
       "    .dataframe tbody tr th:only-of-type {\n",
       "        vertical-align: middle;\n",
       "    }\n",
       "\n",
       "    .dataframe tbody tr th {\n",
       "        vertical-align: top;\n",
       "    }\n",
       "\n",
       "    .dataframe thead th {\n",
       "        text-align: right;\n",
       "    }\n",
       "</style>\n",
       "<table border=\"1\" class=\"dataframe\">\n",
       "  <thead>\n",
       "    <tr style=\"text-align: right;\">\n",
       "      <th></th>\n",
       "      <th>0</th>\n",
       "      <th>1</th>\n",
       "    </tr>\n",
       "  </thead>\n",
       "  <tbody>\n",
       "    <tr>\n",
       "      <th>0</th>\n",
       "      <td>1</td>\n",
       "      <td>2</td>\n",
       "    </tr>\n",
       "    <tr>\n",
       "      <th>1</th>\n",
       "      <td>1</td>\n",
       "      <td>2</td>\n",
       "    </tr>\n",
       "    <tr>\n",
       "      <th>2</th>\n",
       "      <td>1</td>\n",
       "      <td>2</td>\n",
       "    </tr>\n",
       "  </tbody>\n",
       "</table>\n",
       "</div>"
      ]
     },
     "execution_count": 198,
     "metadata": {},
     "output_type": "execute_result"
    }
   ],
   "execution_count": 198
  },
  {
   "cell_type": "markdown",
   "metadata": {},
   "source": [
    "### 0.2 请认真阅读并运行以下示例代码，并思考C/S的多进程、多线程以及下面代码中select实现方式的优缺点。\n",
    "注：文件夹下的example_client.py为本思考题对应的客户端文件。client.py为第一部分网络编程对应的客户端文件。（两个客户端均无需改动）"
   ]
  },
  {
   "cell_type": "code",
   "metadata": {
    "jupyter": {
     "is_executing": true
    },
    "ExecuteTime": {
     "start_time": "2025-07-05T10:01:52.951403Z"
    }
   },
   "source": [
    "import select\n",
    "from socket import *\n",
    "import sys\n",
    "import queue\n",
    "\n",
    "# 生成socket对象\n",
    "server = socket(AF_INET, SOCK_STREAM)\n",
    "server.setsockopt(SOL_SOCKET, SO_REUSEADDR, 1)\n",
    "server.setblocking(False)\n",
    "\n",
    "# 绑定地址，设置监听\n",
    "server.bind(('localhost',9999))\n",
    "server.listen(5)\n",
    "\n",
    "# 将自己也放进待监测列表里\n",
    "inputs = [server, ]\n",
    "outputs = []\n",
    "message_queues = {}\n",
    "\n",
    "while True:\n",
    "    rlist, wlist, elist = select.select(inputs,outputs,inputs) #如果没有任何fd就绪,那程序就会一直阻塞在这里\n",
    "\n",
    "    for r in rlist:  # 遍历已经可以准备读取数据的 fd\n",
    "        if r is server: # 如果这个 fd 是server，即 server 有数据待接收读取，说明有新的客户端连接过来了\n",
    "            conn, client_addr = r.accept()\n",
    "            print(\"new connection from\",client_addr)\n",
    "            conn.setblocking(False)\n",
    "            inputs.append(conn) # 将这个新的客户端连接添加到检测的列表中\n",
    "            message_queues[conn] = queue.Queue() # 用队列存储客户端发送来的数据，等待服务器统一返回数据\n",
    "\n",
    "        else:          # 这个可读的 r 不是服务器，那就是某个客户端。就是说客户端发送数据过来了，这些数据处于待读取状态\n",
    "            try:       # 异常处理，这是为了防止客户端异常断开报错（比如手动关掉客户端黑窗口，服务器也会跟着报错退出）\n",
    "                data = r.recv(1024)\n",
    "                if data:    # 根据判断data是否为空，判断客户端是否断开\n",
    "                    print(\"收到来自[%s]的数据:\" % r.getpeername()[0], data)\n",
    "                    message_queues[r].put(data)   # 收到的数据先放到queue里,一会返回给客户端\n",
    "                    if r not in outputs:\n",
    "                        outputs.append(r)     # 放进可写的fd列表中，表明这些 fd 已经准备好去发送数据了。\n",
    "                else:   # 如果数据为空，表明客户端断开了\n",
    "                    print('客户端断开了')\n",
    "                    if r in outputs:\n",
    "                        outputs.remove(r)    #  清理已断开的连接\n",
    "                    inputs.remove(r)         # 清理已断开的连接\n",
    "                    del message_queues[r]    # 清理已断开的连接\n",
    "            except ConnectionResetError:     # 如果报错，说明客户端断开了\n",
    "                print(\"客户端异常断开了\", r)\n",
    "                if r in outputs:\n",
    "                    outputs.remove(r)   # 清理已断开的连接\n",
    "                inputs.remove(r)        # 清理已断开的连接\n",
    "                del message_queues[r]  # 清理已断开的连接\n",
    "\n",
    "    for w in wlist:       # 遍历可写的 fd 列表，即准备好发送数据的那些fd\n",
    "        # 判断队列是否为空\n",
    "        try :\n",
    "            next_msg = message_queues[w].get_nowait()\n",
    "        except queue.Empty:\n",
    "            # print(\"client [%s]\" % w.getpeername()[0], \"queue is empty..\")\n",
    "            outputs.remove(w)\n",
    "        # 队列不为空，就把队列中的数据改成大写，原样发回去\n",
    "        else:\n",
    "            # print(\"sending msg to [%s]\"% w.getpeername()[0], next_msg)\n",
    "            w.send(next_msg.upper())\n",
    "\n",
    "    for e in elist:   # 处理报错的 fd\n",
    "        e.close()\n",
    "        print(\"Error occured in \",e.getpeername())\n",
    "        inputs.remove(e)\n",
    "        if e in outputs:\n",
    "            outputs.remove(e)\n",
    "        del message_queues[e]"
   ],
   "outputs": [],
   "execution_count": null
  },
  {
   "attachments": {},
   "cell_type": "markdown",
   "metadata": {},
   "source": [
    "## 第一部分：网络编程 (2.5分)"
   ]
  },
  {
   "attachments": {},
   "cell_type": "markdown",
   "metadata": {},
   "source": [
    "### 请将下列代码补充完整，从而实现如下功能：\n",
    "**功能：**\n",
    "* 为每个socket注册用户名，并检查用户名是否已经存在。若已经存在，则发送'Username already exists!'；否则发送'Welcome!'。(1.5分)\n",
    "* 将注册成功的用户发送的信息，转发给其他的注册成功的用户。(1分)\n",
    "\n",
    "**注：**\n",
    "当补充完整代码后，可以运行client.py进行检验，其预期的输出为：\\\n",
    "connecting to localhost port 服务器端口 \\\n",
    "Welcome!to 第一个客户端端口 \\\n",
    "Username already exists!to 第二个客户端端口 \\\n",
    "Welcome!to 第二个客户端端口 \\\n",
    "Hello everybody!to 第二个客户端端口 "
   ]
  },
  {
   "cell_type": "code",
   "metadata": {},
   "source": [
    "from socket import *\n",
    "from select import select\n",
    "import queue\n",
    "\n",
    "class Server:\n",
    "    def __init__(self, host, port):\n",
    "        self.server = socket(AF_INET, SOCK_STREAM)\n",
    "        self.server.setsockopt(SOL_SOCKET, SO_REUSEADDR, 1)\n",
    "        self.server.setblocking(False)\n",
    "\n",
    "        self.server.bind((host, port))\n",
    "        self.server.listen(5)\n",
    "        self.rlist = [self.server]\n",
    "        self.wlist = []\n",
    "        self.message_queues = {}\n",
    "        self.users = {}  # 用于判断socket是否已经注册用户名\n",
    "\n",
    "    def accept(self):\n",
    "        while True:\n",
    "            rs, ws, xs = select(self.rlist, self.wlist, self.rlist)\n",
    "            for r in rs:\n",
    "                if r is self.server:\n",
    "                    # 服务器接受客户端连接\n",
    "                    conn, addr = self.server.accept()\n",
    "                    print(\"new connection from\",addr)\n",
    "                    conn.setblocking(False)\n",
    "                    self.rlist.append(conn)\n",
    "                    self.message_queues[conn] = queue.Queue()\n",
    "                    self.users[conn] = False\n",
    "                else:\n",
    "                    try:\n",
    "                        # 服务器接受客户端的消息并转发给所有客户端\n",
    "                        data = r.recv(1024)\n",
    "                        if data:\n",
    "                            print(\"收到来自[%s]的数据:\" % r.getpeername()[1], data.decode('utf-8'))\n",
    "                            if self.users[r]:  # 将已注册用户的信息广播给其他已注册用户\n",
    "                                # TODO\n",
    "                                pass\n",
    "                            else:  # 对未注册用户发送的昵称进行检验，并进行注册\n",
    "                                # TODO\n",
    "                                pass\n",
    "                        else:\n",
    "                            print('客户端断开了')\n",
    "                            if r in self.wlist:\n",
    "                                self.wlist.remove(r)   # 清理已断开的连接\n",
    "                            self.rlist.remove(r)        # 清理已断开的连接\n",
    "                            del self.message_queues[r]  # 清理已断开的连接\n",
    "                    except ConnectionResetError:\n",
    "                        print(\"客户端异常断开了\", r)\n",
    "                        if r in self.wlist:\n",
    "                            self.wlist.remove(r)   # 清理已断开的连接\n",
    "                        self.rlist.remove(r)        # 清理已断开的连接\n",
    "                        del self.message_queues[r]  # 清理已断开的连接\n",
    "            for w in ws:       # 遍历可写的 fd 列表，即准备好发送数据的那些fd\n",
    "                # 判断队列是否为空\n",
    "                try :\n",
    "                    next_msg = self.message_queues[w].get_nowait()\n",
    "                except queue.Empty:\n",
    "                    # print(\"client [%s]\" % w.getpeername()[0], \"queue is empty..\")\n",
    "                    self.wlist.remove(w)\n",
    "                # 队列不为空，就把队列中的数据改成大写，原样发回去\n",
    "                else:\n",
    "                    print(\"发送数据到 [%s]\"% w.getpeername()[0], next_msg)\n",
    "                    w.send(next_msg)\n",
    "\n",
    "            for e in xs:   # 处理报错的 fd\n",
    "                e.close()\n",
    "                print(\"Error occured in \",e.getpeername())\n",
    "                self.rlist.remove(e)\n",
    "                if e in self.wlist:\n",
    "                    self.wlist.remove(e)\n",
    "                del self.message_queues[e] \n",
    "\n",
    "if __name__=='__main__':\n",
    "    host = '0.0.0.0'      # 主机名\n",
    "    port = 9999           # 端口号\n",
    "    server = Server(host,port)\n",
    "    server.accept()"
   ],
   "outputs": [],
   "execution_count": null
  },
  {
   "attachments": {},
   "cell_type": "markdown",
   "metadata": {},
   "source": [
    "## 第二部分 Pandas基础练习（4.5分）"
   ]
  },
  {
   "attachments": {},
   "cell_type": "markdown",
   "metadata": {},
   "source": [
    "### 2.1 基本操作"
   ]
  },
  {
   "cell_type": "code",
   "metadata": {
    "ExecuteTime": {
     "end_time": "2025-07-05T08:17:44.369058Z",
     "start_time": "2025-07-05T08:17:44.363622Z"
    }
   },
   "source": [
    "import pandas as pd\n",
    "import numpy as np\n",
    "\n",
    "data = {\n",
    "    'age': [24, 53, 23, 24, 33, 42, 57, 57, 36, 29, 53, 39],\n",
    "    'gender': ['M', 'F', 'M', 'M', 'F', 'M', 'M', 'M', 'M', 'M', 'M', 'F'],\n",
    "    'occupation': ['technician', 'other', 'writer', 'technician', 'technician', 'executive', 'administrator', 'administrator', 'administrator', 'student', 'lawyer', 'other'],\n",
    "    'zip_code': ['85711', '94043', '32067', '43537', '15213', '98101', '91344', '91344', '05201', '01002', '90703', '30329']\n",
    "}"
   ],
   "outputs": [],
   "execution_count": 44
  },
  {
   "attachments": {},
   "cell_type": "markdown",
   "metadata": {},
   "source": [
    "创建一组从1开始递增的id，作为行索引，由data生成一个DataFrame。并以gender分组，打印每组的前两条。（0.5分）"
   ]
  },
  {
   "cell_type": "code",
   "metadata": {
    "ExecuteTime": {
     "end_time": "2025-07-05T08:17:49.593038Z",
     "start_time": "2025-07-05T08:17:49.580826Z"
    }
   },
   "source": [
    "# TODO\n",
    "df = pd.DataFrame(data)\n",
    "df.index = range(1, 1 + len(df))\n",
    "res = df.groupby(\"gender\").head(2)\n",
    "print(res)"
   ],
   "outputs": [
    {
     "name": "stdout",
     "output_type": "stream",
     "text": [
      "   age gender  occupation zip_code\n",
      "1   24      M  technician    85711\n",
      "2   53      F       other    94043\n",
      "3   23      M      writer    32067\n",
      "5   33      F  technician    15213\n"
     ]
    }
   ],
   "execution_count": 45
  },
  {
   "attachments": {},
   "cell_type": "markdown",
   "metadata": {},
   "source": [
    "删除DataFrame中重复的行（保留一行），再删除所有occupation为\"other\"的行。（0.5分）"
   ]
  },
  {
   "cell_type": "code",
   "metadata": {
    "ExecuteTime": {
     "end_time": "2025-07-05T08:34:34.307091Z",
     "start_time": "2025-07-05T08:34:34.299172Z"
    }
   },
   "source": [
    "# TODO\n",
    "df = df.drop_duplicates()\n",
    "print(df[df[\"occupation\"] != \"other\"])"
   ],
   "outputs": [
    {
     "name": "stdout",
     "output_type": "stream",
     "text": [
      "    age gender     occupation zip_code\n",
      "1    24      M     technician    85711\n",
      "3    23      M         writer    32067\n",
      "4    24      M     technician    43537\n",
      "5    33      F     technician    15213\n",
      "6    42      M      executive    98101\n",
      "7    57      M  administrator    91344\n",
      "9    36      M  administrator    05201\n",
      "10   29      M        student    01002\n",
      "11   53      M         lawyer    90703\n"
     ]
    }
   ],
   "execution_count": 49
  },
  {
   "attachments": {},
   "cell_type": "markdown",
   "metadata": {},
   "source": [
    "以两种方式访问DataFrame的第一行。（0.5分）"
   ]
  },
  {
   "cell_type": "code",
   "metadata": {
    "ExecuteTime": {
     "end_time": "2025-07-05T08:37:55.283309Z",
     "start_time": "2025-07-05T08:37:55.273970Z"
    }
   },
   "source": [
    "# TODO\n",
    "print(df.iloc[0])\n",
    "print(df.head(1))"
   ],
   "outputs": [
    {
     "name": "stdout",
     "output_type": "stream",
     "text": [
      "age                   24\n",
      "gender                 M\n",
      "occupation    technician\n",
      "zip_code           85711\n",
      "Name: 1, dtype: object\n",
      "   age gender  occupation zip_code\n",
      "1   24      M  technician    85711\n"
     ]
    }
   ],
   "execution_count": 63
  },
  {
   "attachments": {},
   "cell_type": "markdown",
   "metadata": {},
   "source": "以两种方式访问DataFrame的\"occupation\"列。（0.5分）"
  },
  {
   "cell_type": "code",
   "metadata": {
    "ExecuteTime": {
     "end_time": "2025-07-05T08:38:58.584866Z",
     "start_time": "2025-07-05T08:38:58.578846Z"
    }
   },
   "source": [
    "# TODO\n",
    "print(df[\"occupation\"])"
   ],
   "outputs": [
    {
     "name": "stdout",
     "output_type": "stream",
     "text": [
      "1        technician\n",
      "2             other\n",
      "3            writer\n",
      "4        technician\n",
      "5        technician\n",
      "6         executive\n",
      "7     administrator\n",
      "9     administrator\n",
      "10          student\n",
      "11           lawyer\n",
      "12            other\n",
      "Name: occupation, dtype: object\n"
     ]
    }
   ],
   "execution_count": 64
  },
  {
   "attachments": {},
   "cell_type": "markdown",
   "metadata": {},
   "source": [
    "打印出DataFrame中出现次数最多的职业名称（0.5分）"
   ]
  },
  {
   "cell_type": "code",
   "metadata": {
    "ExecuteTime": {
     "end_time": "2025-07-05T08:40:38.401234Z",
     "start_time": "2025-07-05T08:40:38.395934Z"
    }
   },
   "source": [
    "# TODO\n",
    "print(df[\"occupation\"].value_counts().idxmax())"
   ],
   "outputs": [
    {
     "name": "stdout",
     "output_type": "stream",
     "text": [
      "technician\n"
     ]
    }
   ],
   "execution_count": 69
  },
  {
   "attachments": {},
   "cell_type": "markdown",
   "metadata": {},
   "source": [
    "将data_2转换成DataFrame，与上一个DataFrame按照\"zip_code\"这一列合并，按两种合并方式：（0.5分）\n",
    "\n",
    "1.合并后结果保留两个DataFrame的并集；\n",
    "\n",
    "2.合并后只保留data_2的所有数据。"
   ]
  },
  {
   "cell_type": "code",
   "metadata": {
    "ExecuteTime": {
     "end_time": "2025-07-05T08:55:35.643363Z",
     "start_time": "2025-07-05T08:55:35.632387Z"
    }
   },
   "source": [
    "data_2 = {\n",
    "    'zip_code': ['85711', '94043', '15213', '98101', '30329'],\n",
    "    'name': ['Alan', 'Alice', 'Abigail', 'Bob', 'Dave']\n",
    "}\n",
    "df2 = pd.DataFrame(data_2)\n",
    "\n",
    "print(pd.merge(df, df2, on = \"zip_code\", how = \"outer\"))\n",
    "print(pd.merge(df, df2, on=\"zip_code\", how=\"right\"))\n",
    "# TODO"
   ],
   "outputs": [
    {
     "name": "stdout",
     "output_type": "stream",
     "text": [
      "    age gender     occupation zip_code     name\n",
      "0    29      M        student    01002      NaN\n",
      "1    36      M  administrator    05201      NaN\n",
      "2    33      F     technician    15213  Abigail\n",
      "3    39      F          other    30329     Dave\n",
      "4    23      M         writer    32067      NaN\n",
      "5    24      M     technician    43537      NaN\n",
      "6    24      M     technician    85711     Alan\n",
      "7    53      M         lawyer    90703      NaN\n",
      "8    57      M  administrator    91344      NaN\n",
      "9    53      F          other    94043    Alice\n",
      "10   42      M      executive    98101      Bob\n",
      "   age gender  occupation zip_code     name\n",
      "0   24      M  technician    85711     Alan\n",
      "1   53      F       other    94043    Alice\n",
      "2   33      F  technician    15213  Abigail\n",
      "3   42      M   executive    98101      Bob\n",
      "4   39      F       other    30329     Dave\n"
     ]
    }
   ],
   "execution_count": 80
  },
  {
   "attachments": {},
   "cell_type": "markdown",
   "metadata": {},
   "source": [
    "### 2.2 多级索引"
   ]
  },
  {
   "cell_type": "code",
   "metadata": {
    "ExecuteTime": {
     "end_time": "2025-07-05T09:12:09.021267Z",
     "start_time": "2025-07-05T09:12:09.010435Z"
    }
   },
   "source": [
    "# 构建多级索引DataFrame\n",
    "# int数据由 np.random.randint(0, 150, size=(6, 3) 产生\n",
    "# from tuples, from_arrays, from_product\n",
    "import numpy as np\n",
    "import pandas as pd\n",
    "\n",
    "df3 = pd.DataFrame(np.random.randint(0, 150, size=(6, 3)),\n",
    "                  columns=[\"Python\", \"C++\", \"Java\"],\n",
    "                  index=pd.MultiIndex.from_product([['张三', '李四', '王五'],\n",
    "                                                  ['期中', '期末']]))\n",
    "df3"
   ],
   "outputs": [
    {
     "name": "stdout",
     "output_type": "stream",
     "text": [
      "       Python  C++  Java\n",
      "张三 期中      28   25    48\n",
      "李四 期中     140   87    52\n",
      "王五 期中     120   19    14\n"
     ]
    }
   ],
   "execution_count": 108
  },
  {
   "attachments": {},
   "cell_type": "markdown",
   "metadata": {},
   "source": [
    "实现变换df3为三重索引的serial。(0.5分)"
   ]
  },
  {
   "cell_type": "code",
   "metadata": {
    "ExecuteTime": {
     "end_time": "2025-07-05T09:12:34.866790Z",
     "start_time": "2025-07-05T09:12:34.859609Z"
    }
   },
   "source": [
    "# TODO\n",
    "df3 = df3.stack()\n",
    "print(df3)"
   ],
   "outputs": [
    {
     "name": "stdout",
     "output_type": "stream",
     "text": [
      "张三  期中  Python     28\n",
      "        C++        25\n",
      "        Java       48\n",
      "    期末  Python    139\n",
      "        C++        48\n",
      "        Java       71\n",
      "李四  期中  Python    140\n",
      "        C++        87\n",
      "        Java       52\n",
      "    期末  Python     97\n",
      "        C++       125\n",
      "        Java      105\n",
      "王五  期中  Python    120\n",
      "        C++        19\n",
      "        Java       14\n",
      "    期末  Python     69\n",
      "        C++        98\n",
      "        Java       97\n",
      "dtype: int32\n"
     ]
    }
   ],
   "execution_count": 109
  },
  {
   "attachments": {},
   "cell_type": "markdown",
   "metadata": {},
   "source": [
    "按期中40%，期末60%的比例，计算输出每位同学每门功课的总评成绩表。（0.5分）"
   ]
  },
  {
   "cell_type": "code",
   "metadata": {
    "ExecuteTime": {
     "end_time": "2025-07-05T09:13:35.361609Z",
     "start_time": "2025-07-05T09:13:35.350743Z"
    }
   },
   "source": [
    "# TODO\n",
    "df_mid = df3.loc[(slice(None), \"期中\")]\n",
    "df_final = df3.loc[(slice(None), '期末')]\n",
    "df_sum = 0.4 * df_mid + 0.6 * df_final\n",
    "print(df_sum.unstack())"
   ],
   "outputs": [
    {
     "name": "stdout",
     "output_type": "stream",
     "text": [
      "    Python    C++  Java\n",
      "张三    94.6   38.8  61.8\n",
      "李四   114.2  109.8  83.8\n",
      "王五    89.4   66.4  63.8\n"
     ]
    }
   ],
   "execution_count": 113
  },
  {
   "attachments": {},
   "cell_type": "markdown",
   "metadata": {},
   "source": [
    "计算输出每门功课的最高分，最低分，以及平均分数表（课程名做行索引，列名用最高分，最低分，平均分数）。（0.5分）"
   ]
  },
  {
   "cell_type": "code",
   "metadata": {
    "ExecuteTime": {
     "end_time": "2025-07-05T09:22:23.002645Z",
     "start_time": "2025-07-05T09:22:22.994011Z"
    }
   },
   "source": [
    "# TODO\n",
    "df_course = df_sum.unstack()\n",
    "summary = pd.DataFrame({\n",
    "    '最高分': df_course.max(),\n",
    "    '最低分': df_course.min(),\n",
    "    '平均分数': df_course.mean()  # 保留两位小数\n",
    "})\n",
    "\n",
    "print(summary)"
   ],
   "outputs": [
    {
     "name": "stdout",
     "output_type": "stream",
     "text": [
      "          最高分   最低分       平均分数\n",
      "Python  114.2  89.4  99.400000\n",
      "C++     109.8  38.8  71.666667\n",
      "Java     83.8  61.8  69.800000\n"
     ]
    }
   ],
   "execution_count": 130
  },
  {
   "attachments": {},
   "cell_type": "markdown",
   "metadata": {},
   "source": [
    "## 第三部分 Pandas数据分析（3分）"
   ]
  },
  {
   "attachments": {},
   "cell_type": "markdown",
   "metadata": {},
   "source": [
    "使用Pandas的read_csv函数读取 IBM_2006-01-01_to_2018-01-01.csv 中的数据，得到一个DataFrame，通过shape和info()查看数据基本信息，并打印该数据的前10行观察一下。该数据列索引对应的分别是：日期，开盘价，最高价，最低价，收盘价，成交量，股票名称。（0.5分）"
   ]
  },
  {
   "cell_type": "code",
   "metadata": {
    "ExecuteTime": {
     "end_time": "2025-07-06T01:27:25.998400Z",
     "start_time": "2025-07-06T01:27:25.344604Z"
    }
   },
   "source": [
    "import pandas as pd\n",
    "\n",
    "IBM_file = 'IBM_2006-01-01_to_2018-01-01.csv'\n",
    "# TODO\n",
    "df = pd.read_csv(IBM_file)\n",
    "print(df.shape)\n",
    "print(df.info())\n",
    "print(df.head(10))"
   ],
   "outputs": [
    {
     "name": "stdout",
     "output_type": "stream",
     "text": [
      "(3020, 7)\n",
      "<class 'pandas.core.frame.DataFrame'>\n",
      "RangeIndex: 3020 entries, 0 to 3019\n",
      "Data columns (total 7 columns):\n",
      " #   Column  Non-Null Count  Dtype  \n",
      "---  ------  --------------  -----  \n",
      " 0   Date    3020 non-null   object \n",
      " 1   Open    3019 non-null   float64\n",
      " 2   High    3020 non-null   float64\n",
      " 3   Low     3019 non-null   float64\n",
      " 4   Close   3020 non-null   float64\n",
      " 5   Volume  3020 non-null   int64  \n",
      " 6   Name    3020 non-null   object \n",
      "dtypes: float64(4), int64(1), object(2)\n",
      "memory usage: 165.3+ KB\n",
      "None\n",
      "         Date   Open   High    Low  Close    Volume Name\n",
      "0  2006-01-03  82.45  82.55  80.81  82.06  11715200  IBM\n",
      "1  2006-01-04  82.20  82.50  81.33  81.95   9840600  IBM\n",
      "2  2006-01-05  81.40  82.90  81.00  82.50   7213500  IBM\n",
      "3  2006-01-06  83.95  85.03  83.41  84.95   8197400  IBM\n",
      "4  2006-01-09  84.10  84.25  83.38  83.73   6858200  IBM\n",
      "5  2006-01-10  83.15  84.12  83.12  84.07   5701000  IBM\n",
      "6  2006-01-11  84.37  84.81  83.40  84.17   5776500  IBM\n",
      "7  2006-01-12  83.82  83.96  83.40  83.57   4926500  IBM\n",
      "8  2006-01-13  83.00  83.45  82.50  83.17   6921700  IBM\n",
      "9  2006-01-17  82.80  83.16  82.54  83.00   8761700  IBM\n"
     ]
    }
   ],
   "execution_count": 2
  },
  {
   "attachments": {},
   "cell_type": "markdown",
   "metadata": {},
   "source": [
    "观察到Open与Low这两列相比其他列都缺了一项，请删除DataFrame中所有不完整的数据。（0.5分）"
   ]
  },
  {
   "cell_type": "code",
   "metadata": {
    "ExecuteTime": {
     "end_time": "2025-07-06T01:27:30.273104Z",
     "start_time": "2025-07-06T01:27:30.264829Z"
    }
   },
   "source": [
    "# TODO\n",
    "df = df.dropna()"
   ],
   "outputs": [],
   "execution_count": 3
  },
  {
   "attachments": {},
   "cell_type": "markdown",
   "metadata": {},
   "source": [
    "由于股市周末和节假日不开盘，日期为2006-01-06的下一条数据就是2006-01-09，缺少了中间两天的数据。请将所有缺少的数据按照以下规则补充：成交量（volume）填充为零，开盘价等价格与前一天（最近的有数据的一天）保持相同。（0.5分）\n",
    "\n",
    "提示：使用pandas.date_range生成时间序列"
   ]
  },
  {
   "cell_type": "code",
   "metadata": {
    "ExecuteTime": {
     "end_time": "2025-07-06T01:27:33.024790Z",
     "start_time": "2025-07-06T01:27:33.010949Z"
    }
   },
   "source": [
    "# TODO\n",
    "df['Date'] = pd.to_datetime(df['Date'])\n",
    "full_Date = pd.DataFrame({\"Date\" : pd.date_range(start=df.Date.min(), end=df.Date.max())})\n",
    "df = pd.merge(df, full_Date, on=\"Date\", how=\"outer\")\n",
    "\n",
    "df['Volume'] = df['Volume'].fillna(0)\n",
    "df = df.ffill()"
   ],
   "outputs": [],
   "execution_count": 4
  },
  {
   "attachments": {},
   "cell_type": "markdown",
   "metadata": {},
   "source": [
    "在DataFrame中按月份聚合，计算一年当中每个月的成交量总和，以及每个月收盘价的次高值。(1分)\n",
    "\n",
    "提示：可以通过apply方法实现自定义的聚合函数。（有多个相同值的话，这里先简单地按照排完序取下标第二个就行了）"
   ]
  },
  {
   "cell_type": "code",
   "metadata": {
    "ExecuteTime": {
     "end_time": "2025-07-06T01:30:39.444337Z",
     "start_time": "2025-07-06T01:30:39.387944Z"
    }
   },
   "source": [
    "# TODO\n",
    "def second(df : pd.DataFrame):\n",
    "    return df.sort_values(ascending=False).reset_index(drop=True)[1]\n",
    "\n",
    "df['YearMonth'] = df['Date'].dt.to_period('M')\n",
    "volume_sum = df.groupby('YearMonth')['Volume'].sum()\n",
    "close_max = df.groupby(\"YearMonth\")['Close'].apply(second)\n",
    "print(pd.merge(volume_sum, close_max, on=\"YearMonth\", how=\"outer\"))"
   ],
   "outputs": [
    {
     "name": "stdout",
     "output_type": "stream",
     "text": [
      "                Volume   Close\n",
      "YearMonth                     \n",
      "2006-01    146611300.0   84.95\n",
      "2006-02    111061200.0   81.35\n",
      "2006-03    111811000.0   83.81\n",
      "2006-04    114030800.0   83.88\n",
      "2006-05    113238100.0   83.28\n",
      "...                ...     ...\n",
      "2017-08     80295410.0  145.16\n",
      "2017-09     78281970.0  145.99\n",
      "2017-10    121897687.0  162.07\n",
      "2017-11     89776130.0  153.97\n",
      "2017-12     88788538.0  156.46\n",
      "\n",
      "[144 rows x 2 columns]\n"
     ]
    }
   ],
   "execution_count": 7
  },
  {
   "attachments": {},
   "cell_type": "markdown",
   "metadata": {},
   "source": [
    "读取AMZN_2006-01-01_to_2018-01-01.csv，其中包含了Amazon的股票数据。\n",
    "请以Date作为索引，'IBM'和'AMZN'作为列索引，构建一个Dataframe，其中的数据为两家公司每天的股票收盘价。（0.5分）"
   ]
  },
  {
   "cell_type": "code",
   "metadata": {
    "ExecuteTime": {
     "end_time": "2025-07-05T12:27:30.117107Z",
     "start_time": "2025-07-05T12:27:30.087858Z"
    }
   },
   "source": [
    "AMZN_file = 'AMZN_2006-01-01_to_2018-01-01.csv'\n",
    "IBM_file = 'IBM_2006-01-01_to_2018-01-01.csv'\n",
    "\n",
    "AMZN_data = pd.read_csv(AMZN_file)\n",
    "IBM_data = pd.read_csv(IBM_file)\n",
    "# TODO\n",
    "AMZN_Close = AMZN_data[[\"Date\", \"Close\"]]\n",
    "IBM_Close = IBM_data[[\"Date\", \"Close\"]]\n",
    "df = pd.merge(AMZN_Close, IBM_Close, on=\"Date\", how=\"outer\")\n",
    "df.columns = [\"Data\", \"IBM\", \"AMZN\"]\n",
    "print(df)"
   ],
   "outputs": [
    {
     "name": "stdout",
     "output_type": "stream",
     "text": [
      "            Data      IBM    AMZN\n",
      "0     2006-01-03    47.58   82.06\n",
      "1     2006-01-04    47.25   81.95\n",
      "2     2006-01-05    47.65   82.50\n",
      "3     2006-01-06    47.87   84.95\n",
      "4     2006-01-09    47.08   83.73\n",
      "...          ...      ...     ...\n",
      "3015  2017-12-22  1168.36  152.50\n",
      "3016  2017-12-26  1176.76  152.83\n",
      "3017  2017-12-27  1182.26  153.13\n",
      "3018  2017-12-28  1186.10  154.04\n",
      "3019  2017-12-29  1169.47  153.42\n",
      "\n",
      "[3020 rows x 3 columns]\n"
     ]
    }
   ],
   "execution_count": 15
  }
 ],
 "metadata": {
  "kernelspec": {
   "display_name": "Python 3.9.15 ('base')",
   "language": "python",
   "name": "python3"
  },
  "language_info": {
   "codemirror_mode": {
    "name": "ipython",
    "version": 3
   },
   "file_extension": ".py",
   "mimetype": "text/x-python",
   "name": "python",
   "nbconvert_exporter": "python",
   "pygments_lexer": "ipython3",
   "version": "3.9.15"
  },
  "vscode": {
   "interpreter": {
    "hash": "e3088de3960acd46056fbdd3913a22297cbcceb7274202512f4b511f7eda05a2"
   }
  }
 },
 "nbformat": 4,
 "nbformat_minor": 4
}
