{
 "cells": [
  {
   "metadata": {
    "ExecuteTime": {
     "end_time": "2025-10-05T13:38:16.223722Z",
     "start_time": "2025-10-05T13:38:16.219716Z"
    }
   },
   "cell_type": "code",
   "source": "from pathlib import Path",
   "id": "a37c54c76e6d469c",
   "outputs": [],
   "execution_count": 17
  },
  {
   "cell_type": "code",
   "id": "initial_id",
   "metadata": {
    "collapsed": true,
    "ExecuteTime": {
     "end_time": "2025-10-05T13:38:16.263636Z",
     "start_time": "2025-10-05T13:38:16.259785Z"
    }
   },
   "source": "print(Path.cwd(), Path.home(), Path(\".\"), sep=\"\\t\")",
   "outputs": [
    {
     "name": "stdout",
     "output_type": "stream",
     "text": [
      "D:\\_Python\\Python_hjf_2023_spring\tC:\\Users\\yuany\t.\n"
     ]
    }
   ],
   "execution_count": 18
  },
  {
   "metadata": {
    "ExecuteTime": {
     "end_time": "2025-10-05T13:38:16.301106Z",
     "start_time": "2025-10-05T13:38:16.295121Z"
    }
   },
   "cell_type": "code",
   "source": [
    "path1 = Path.cwd() / \"Temp1\"\n",
    "path2 = Path(\"./pathlib.ipynb\")\n",
    "print(path1, path2, sep=\"\\t\\t\")\n",
    "print(path1.name, path1.parent, sep=\"\\t\")\n",
    "print(path1.exists(), path1.is_dir(), sep=\"\\t\")"
   ],
   "id": "a70a893790e1782f",
   "outputs": [
    {
     "name": "stdout",
     "output_type": "stream",
     "text": [
      "D:\\_Python\\Python_hjf_2023_spring\\Temp1\t\tpathlib.ipynb\n",
      "Temp1\tD:\\_Python\\Python_hjf_2023_spring\n",
      "False\tFalse\n"
     ]
    }
   ],
   "execution_count": 19
  },
  {
   "metadata": {
    "ExecuteTime": {
     "end_time": "2025-10-05T13:38:16.371383Z",
     "start_time": "2025-10-05T13:38:16.365273Z"
    }
   },
   "cell_type": "code",
   "source": [
    "p = Path(\".\")\n",
    "paths = [path for path in p.iterdir() if path.is_file()]\n",
    "print(*paths, sep=\"\\t\")"
   ],
   "id": "f4e47c61e6b46102",
   "outputs": [
    {
     "name": "stdout",
     "output_type": "stream",
     "text": [
      "matplotlib.ipynb\tmatrix.ipynb\tMyFigure.png\tpathlib.ipynb\t_decorator.ipynb\t_numpy_array.ipynb\t_numpy_array.pdf\t_pandas.ipynb\t_pandas.pdf\t_pandas_IO.md\t_regex.ipynb\n"
     ]
    }
   ],
   "execution_count": 20
  },
  {
   "metadata": {
    "ExecuteTime": {
     "end_time": "2025-10-05T13:38:16.419998Z",
     "start_time": "2025-10-05T13:38:16.412516Z"
    }
   },
   "cell_type": "code",
   "source": [
    "if not Path(\"new_dir_test\").exists():\n",
    "    Path(\"new_dir_test\").mkdir()\n",
    "Path(\"new_dir_test\").rmdir()"
   ],
   "id": "c3bbb9cf4b0817f8",
   "outputs": [],
   "execution_count": 21
  },
  {
   "metadata": {
    "ExecuteTime": {
     "end_time": "2025-10-05T13:38:16.460331Z",
     "start_time": "2025-10-05T13:38:16.454026Z"
    }
   },
   "cell_type": "code",
   "source": [
    "if not Path(\"temp\").exists():\n",
    "    Path(\"temp\").touch()\n",
    "Path(\"temp\").rename(\"temp.txt\")\n",
    "Path(\"temp.txt\").unlink()"
   ],
   "id": "a9278c7ebb255a0a",
   "outputs": [],
   "execution_count": 22
  },
  {
   "metadata": {
    "ExecuteTime": {
     "end_time": "2025-10-05T13:38:16.497655Z",
     "start_time": "2025-10-05T13:38:16.493060Z"
    }
   },
   "cell_type": "code",
   "source": "print(f\"{Path(\"pathlib.ipynb\").stat().st_size} B\")",
   "id": "ce555dace3875fed",
   "outputs": [
    {
     "name": "stdout",
     "output_type": "stream",
     "text": [
      "5240 B\n"
     ]
    }
   ],
   "execution_count": 23
  },
  {
   "metadata": {
    "ExecuteTime": {
     "end_time": "2025-10-05T13:38:16.539754Z",
     "start_time": "2025-10-05T13:38:16.536283Z"
    }
   },
   "cell_type": "code",
   "source": [
    "for file in Path(\"hw1_表达式与容器\").rglob('*.ipynb'):\n",
    "    print(file)"
   ],
   "id": "89af80f357703d2c",
   "outputs": [
    {
     "name": "stdout",
     "output_type": "stream",
     "text": [
      "hw1_表达式与容器\\hw1.ipynb\n",
      "hw1_表达式与容器\\hw1_ans.ipynb\n"
     ]
    }
   ],
   "execution_count": 24
  }
 ],
 "metadata": {
  "kernelspec": {
   "display_name": "Python 3",
   "language": "python",
   "name": "python3"
  },
  "language_info": {
   "codemirror_mode": {
    "name": "ipython",
    "version": 2
   },
   "file_extension": ".py",
   "mimetype": "text/x-python",
   "name": "python",
   "nbconvert_exporter": "python",
   "pygments_lexer": "ipython2",
   "version": "2.7.6"
  }
 },
 "nbformat": 4,
 "nbformat_minor": 5
}
